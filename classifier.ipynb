{
  "cells": [
    {
      "cell_type": "code",
      "execution_count": null,
      "metadata": {
        "id": "sGlBkUzTYHBy"
      },
      "outputs": [],
      "source": [
        "import pandas as pd\n",
        "import numpy as np"
      ]
    },
    {
      "cell_type": "markdown",
      "source": [
        "# Load and Clean Data"
      ],
      "metadata": {
        "id": "iaVilpN5YbMa"
      }
    },
    {
      "cell_type": "code",
      "execution_count": null,
      "metadata": {
        "id": "RztrPGHHYHB8",
        "outputId": "dc87c307-55e2-4ab1-c5d5-a7fcd91c8970"
      },
      "outputs": [
        {
          "data": {
            "text/html": [
              "<div>\n",
              "<style scoped>\n",
              "    .dataframe tbody tr th:only-of-type {\n",
              "        vertical-align: middle;\n",
              "    }\n",
              "\n",
              "    .dataframe tbody tr th {\n",
              "        vertical-align: top;\n",
              "    }\n",
              "\n",
              "    .dataframe thead th {\n",
              "        text-align: right;\n",
              "    }\n",
              "</style>\n",
              "<table border=\"1\" class=\"dataframe\">\n",
              "  <thead>\n",
              "    <tr style=\"text-align: right;\">\n",
              "      <th></th>\n",
              "      <th>Diabetes_binary</th>\n",
              "      <th>HighBP</th>\n",
              "      <th>High Cholesterol</th>\n",
              "      <th>Cholesterol Check</th>\n",
              "      <th>BMI</th>\n",
              "      <th>Smoker</th>\n",
              "      <th>Stroke</th>\n",
              "      <th>HeartDiseaseorAttack</th>\n",
              "      <th>Physical Activity</th>\n",
              "      <th>Fruits</th>\n",
              "      <th>...</th>\n",
              "      <th>Any Health Care</th>\n",
              "      <th>No Doctor because of Cost</th>\n",
              "      <th>General Health</th>\n",
              "      <th>Mental Health</th>\n",
              "      <th>Physical Health</th>\n",
              "      <th>Difficulty Walking</th>\n",
              "      <th>Sex</th>\n",
              "      <th>Age</th>\n",
              "      <th>Education</th>\n",
              "      <th>Income</th>\n",
              "    </tr>\n",
              "  </thead>\n",
              "  <tbody>\n",
              "    <tr>\n",
              "      <th>0</th>\n",
              "      <td>0.0</td>\n",
              "      <td>1.0</td>\n",
              "      <td>0.0</td>\n",
              "      <td>1.0</td>\n",
              "      <td>26.0</td>\n",
              "      <td>0.0</td>\n",
              "      <td>0.0</td>\n",
              "      <td>0.0</td>\n",
              "      <td>1.0</td>\n",
              "      <td>0.0</td>\n",
              "      <td>...</td>\n",
              "      <td>1.0</td>\n",
              "      <td>0.0</td>\n",
              "      <td>Medium</td>\n",
              "      <td>5.0</td>\n",
              "      <td>30.0</td>\n",
              "      <td>0.0</td>\n",
              "      <td>male</td>\n",
              "      <td>4.0</td>\n",
              "      <td>Cat6</td>\n",
              "      <td>Cat8</td>\n",
              "    </tr>\n",
              "    <tr>\n",
              "      <th>1</th>\n",
              "      <td>0.0</td>\n",
              "      <td>1.0</td>\n",
              "      <td>1.0</td>\n",
              "      <td>1.0</td>\n",
              "      <td>26.0</td>\n",
              "      <td>1.0</td>\n",
              "      <td>1.0</td>\n",
              "      <td>0.0</td>\n",
              "      <td>0.0</td>\n",
              "      <td>1.0</td>\n",
              "      <td>...</td>\n",
              "      <td>1.0</td>\n",
              "      <td>0.0</td>\n",
              "      <td>Medium</td>\n",
              "      <td>0.0</td>\n",
              "      <td>0.0</td>\n",
              "      <td>0.0</td>\n",
              "      <td>male</td>\n",
              "      <td>12.0</td>\n",
              "      <td>Cat6</td>\n",
              "      <td>Cat8</td>\n",
              "    </tr>\n",
              "    <tr>\n",
              "      <th>2</th>\n",
              "      <td>0.0</td>\n",
              "      <td>0.0</td>\n",
              "      <td>0.0</td>\n",
              "      <td>1.0</td>\n",
              "      <td>26.0</td>\n",
              "      <td>0.0</td>\n",
              "      <td>0.0</td>\n",
              "      <td>0.0</td>\n",
              "      <td>1.0</td>\n",
              "      <td>1.0</td>\n",
              "      <td>...</td>\n",
              "      <td>1.0</td>\n",
              "      <td>0.0</td>\n",
              "      <td>High</td>\n",
              "      <td>0.0</td>\n",
              "      <td>10.0</td>\n",
              "      <td>0.0</td>\n",
              "      <td>male</td>\n",
              "      <td>13.0</td>\n",
              "      <td>Cat6</td>\n",
              "      <td>Cat8</td>\n",
              "    </tr>\n",
              "    <tr>\n",
              "      <th>3</th>\n",
              "      <td>0.0</td>\n",
              "      <td>1.0</td>\n",
              "      <td>1.0</td>\n",
              "      <td>1.0</td>\n",
              "      <td>28.0</td>\n",
              "      <td>1.0</td>\n",
              "      <td>0.0</td>\n",
              "      <td>0.0</td>\n",
              "      <td>1.0</td>\n",
              "      <td>1.0</td>\n",
              "      <td>...</td>\n",
              "      <td>1.0</td>\n",
              "      <td>0.0</td>\n",
              "      <td>Medium</td>\n",
              "      <td>0.0</td>\n",
              "      <td>3.0</td>\n",
              "      <td>0.0</td>\n",
              "      <td>male</td>\n",
              "      <td>11.0</td>\n",
              "      <td>Cat6</td>\n",
              "      <td>Cat8</td>\n",
              "    </tr>\n",
              "    <tr>\n",
              "      <th>4</th>\n",
              "      <td>0.0</td>\n",
              "      <td>0.0</td>\n",
              "      <td>0.0</td>\n",
              "      <td>1.0</td>\n",
              "      <td>29.0</td>\n",
              "      <td>1.0</td>\n",
              "      <td>0.0</td>\n",
              "      <td>0.0</td>\n",
              "      <td>1.0</td>\n",
              "      <td>1.0</td>\n",
              "      <td>...</td>\n",
              "      <td>1.0</td>\n",
              "      <td>0.0</td>\n",
              "      <td>Good</td>\n",
              "      <td>0.0</td>\n",
              "      <td>0.0</td>\n",
              "      <td>0.0</td>\n",
              "      <td>female</td>\n",
              "      <td>8.0</td>\n",
              "      <td>Cat5</td>\n",
              "      <td>Cat8</td>\n",
              "    </tr>\n",
              "    <tr>\n",
              "      <th>...</th>\n",
              "      <td>...</td>\n",
              "      <td>...</td>\n",
              "      <td>...</td>\n",
              "      <td>...</td>\n",
              "      <td>...</td>\n",
              "      <td>...</td>\n",
              "      <td>...</td>\n",
              "      <td>...</td>\n",
              "      <td>...</td>\n",
              "      <td>...</td>\n",
              "      <td>...</td>\n",
              "      <td>...</td>\n",
              "      <td>...</td>\n",
              "      <td>...</td>\n",
              "      <td>...</td>\n",
              "      <td>...</td>\n",
              "      <td>...</td>\n",
              "      <td>...</td>\n",
              "      <td>...</td>\n",
              "      <td>...</td>\n",
              "      <td>...</td>\n",
              "    </tr>\n",
              "    <tr>\n",
              "      <th>70687</th>\n",
              "      <td>1.0</td>\n",
              "      <td>0.0</td>\n",
              "      <td>1.0</td>\n",
              "      <td>1.0</td>\n",
              "      <td>37.0</td>\n",
              "      <td>0.0</td>\n",
              "      <td>0.0</td>\n",
              "      <td>0.0</td>\n",
              "      <td>0.0</td>\n",
              "      <td>0.0</td>\n",
              "      <td>...</td>\n",
              "      <td>1.0</td>\n",
              "      <td>0.0</td>\n",
              "      <td>Low</td>\n",
              "      <td>0.0</td>\n",
              "      <td>0.0</td>\n",
              "      <td>0.0</td>\n",
              "      <td>female</td>\n",
              "      <td>6.0</td>\n",
              "      <td>Cat4</td>\n",
              "      <td>Cat1</td>\n",
              "    </tr>\n",
              "    <tr>\n",
              "      <th>70688</th>\n",
              "      <td>1.0</td>\n",
              "      <td>0.0</td>\n",
              "      <td>1.0</td>\n",
              "      <td>1.0</td>\n",
              "      <td>29.0</td>\n",
              "      <td>1.0</td>\n",
              "      <td>0.0</td>\n",
              "      <td>1.0</td>\n",
              "      <td>0.0</td>\n",
              "      <td>1.0</td>\n",
              "      <td>...</td>\n",
              "      <td>1.0</td>\n",
              "      <td>0.0</td>\n",
              "      <td>Good</td>\n",
              "      <td>0.0</td>\n",
              "      <td>0.0</td>\n",
              "      <td>1.0</td>\n",
              "      <td>male</td>\n",
              "      <td>10.0</td>\n",
              "      <td>Cat3</td>\n",
              "      <td>Cat6</td>\n",
              "    </tr>\n",
              "    <tr>\n",
              "      <th>70689</th>\n",
              "      <td>1.0</td>\n",
              "      <td>1.0</td>\n",
              "      <td>1.0</td>\n",
              "      <td>1.0</td>\n",
              "      <td>25.0</td>\n",
              "      <td>0.0</td>\n",
              "      <td>0.0</td>\n",
              "      <td>1.0</td>\n",
              "      <td>0.0</td>\n",
              "      <td>1.0</td>\n",
              "      <td>...</td>\n",
              "      <td>1.0</td>\n",
              "      <td>0.0</td>\n",
              "      <td>Very Low</td>\n",
              "      <td>15.0</td>\n",
              "      <td>0.0</td>\n",
              "      <td>1.0</td>\n",
              "      <td>female</td>\n",
              "      <td>13.0</td>\n",
              "      <td>Cat6</td>\n",
              "      <td>Cat4</td>\n",
              "    </tr>\n",
              "    <tr>\n",
              "      <th>70690</th>\n",
              "      <td>1.0</td>\n",
              "      <td>1.0</td>\n",
              "      <td>1.0</td>\n",
              "      <td>1.0</td>\n",
              "      <td>18.0</td>\n",
              "      <td>0.0</td>\n",
              "      <td>0.0</td>\n",
              "      <td>0.0</td>\n",
              "      <td>0.0</td>\n",
              "      <td>0.0</td>\n",
              "      <td>...</td>\n",
              "      <td>1.0</td>\n",
              "      <td>0.0</td>\n",
              "      <td>Low</td>\n",
              "      <td>0.0</td>\n",
              "      <td>0.0</td>\n",
              "      <td>1.0</td>\n",
              "      <td>female</td>\n",
              "      <td>11.0</td>\n",
              "      <td>Cat2</td>\n",
              "      <td>Cat4</td>\n",
              "    </tr>\n",
              "    <tr>\n",
              "      <th>70691</th>\n",
              "      <td>1.0</td>\n",
              "      <td>1.0</td>\n",
              "      <td>1.0</td>\n",
              "      <td>1.0</td>\n",
              "      <td>25.0</td>\n",
              "      <td>0.0</td>\n",
              "      <td>0.0</td>\n",
              "      <td>1.0</td>\n",
              "      <td>1.0</td>\n",
              "      <td>1.0</td>\n",
              "      <td>...</td>\n",
              "      <td>1.0</td>\n",
              "      <td>0.0</td>\n",
              "      <td>Good</td>\n",
              "      <td>0.0</td>\n",
              "      <td>0.0</td>\n",
              "      <td>0.0</td>\n",
              "      <td>female</td>\n",
              "      <td>9.0</td>\n",
              "      <td>Cat6</td>\n",
              "      <td>Cat2</td>\n",
              "    </tr>\n",
              "  </tbody>\n",
              "</table>\n",
              "<p>70692 rows × 22 columns</p>\n",
              "</div>"
            ],
            "text/plain": [
              "       Diabetes_binary  HighBP  High Cholesterol  Cholesterol Check   BMI  \\\n",
              "0                  0.0     1.0               0.0                1.0  26.0   \n",
              "1                  0.0     1.0               1.0                1.0  26.0   \n",
              "2                  0.0     0.0               0.0                1.0  26.0   \n",
              "3                  0.0     1.0               1.0                1.0  28.0   \n",
              "4                  0.0     0.0               0.0                1.0  29.0   \n",
              "...                ...     ...               ...                ...   ...   \n",
              "70687              1.0     0.0               1.0                1.0  37.0   \n",
              "70688              1.0     0.0               1.0                1.0  29.0   \n",
              "70689              1.0     1.0               1.0                1.0  25.0   \n",
              "70690              1.0     1.0               1.0                1.0  18.0   \n",
              "70691              1.0     1.0               1.0                1.0  25.0   \n",
              "\n",
              "       Smoker  Stroke  HeartDiseaseorAttack  Physical Activity  Fruits  ...  \\\n",
              "0         0.0     0.0                   0.0                1.0     0.0  ...   \n",
              "1         1.0     1.0                   0.0                0.0     1.0  ...   \n",
              "2         0.0     0.0                   0.0                1.0     1.0  ...   \n",
              "3         1.0     0.0                   0.0                1.0     1.0  ...   \n",
              "4         1.0     0.0                   0.0                1.0     1.0  ...   \n",
              "...       ...     ...                   ...                ...     ...  ...   \n",
              "70687     0.0     0.0                   0.0                0.0     0.0  ...   \n",
              "70688     1.0     0.0                   1.0                0.0     1.0  ...   \n",
              "70689     0.0     0.0                   1.0                0.0     1.0  ...   \n",
              "70690     0.0     0.0                   0.0                0.0     0.0  ...   \n",
              "70691     0.0     0.0                   1.0                1.0     1.0  ...   \n",
              "\n",
              "       Any Health Care  No Doctor because of Cost  General Health  \\\n",
              "0                  1.0                        0.0          Medium   \n",
              "1                  1.0                        0.0          Medium   \n",
              "2                  1.0                        0.0            High   \n",
              "3                  1.0                        0.0          Medium   \n",
              "4                  1.0                        0.0            Good   \n",
              "...                ...                        ...             ...   \n",
              "70687              1.0                        0.0             Low   \n",
              "70688              1.0                        0.0            Good   \n",
              "70689              1.0                        0.0        Very Low   \n",
              "70690              1.0                        0.0             Low   \n",
              "70691              1.0                        0.0            Good   \n",
              "\n",
              "       Mental Health Physical Health  Difficulty Walking     Sex   Age  \\\n",
              "0                5.0            30.0                 0.0    male   4.0   \n",
              "1                0.0             0.0                 0.0    male  12.0   \n",
              "2                0.0            10.0                 0.0    male  13.0   \n",
              "3                0.0             3.0                 0.0    male  11.0   \n",
              "4                0.0             0.0                 0.0  female   8.0   \n",
              "...              ...             ...                 ...     ...   ...   \n",
              "70687            0.0             0.0                 0.0  female   6.0   \n",
              "70688            0.0             0.0                 1.0    male  10.0   \n",
              "70689           15.0             0.0                 1.0  female  13.0   \n",
              "70690            0.0             0.0                 1.0  female  11.0   \n",
              "70691            0.0             0.0                 0.0  female   9.0   \n",
              "\n",
              "      Education  Income  \n",
              "0          Cat6    Cat8  \n",
              "1          Cat6    Cat8  \n",
              "2          Cat6    Cat8  \n",
              "3          Cat6    Cat8  \n",
              "4          Cat5    Cat8  \n",
              "...         ...     ...  \n",
              "70687      Cat4    Cat1  \n",
              "70688      Cat3    Cat6  \n",
              "70689      Cat6    Cat4  \n",
              "70690      Cat2    Cat4  \n",
              "70691      Cat6    Cat2  \n",
              "\n",
              "[70692 rows x 22 columns]"
            ]
          },
          "execution_count": 2,
          "metadata": {},
          "output_type": "execute_result"
        }
      ],
      "source": [
        "dataFrame = pd.read_csv('./data/diabetes.csv', index_col=0);\n",
        "dataFrame"
      ]
    },
    {
      "cell_type": "code",
      "execution_count": null,
      "metadata": {
        "id": "0eeERaEOYHCA",
        "outputId": "1d6bd3e3-30c3-4919-a25e-3d1f0024efbb"
      },
      "outputs": [
        {
          "data": {
            "text/plain": [
              "Diabetes_binary              0\n",
              "HighBP                       0\n",
              "High Cholesterol             0\n",
              "Cholesterol Check            0\n",
              "BMI                          1\n",
              "Smoker                       0\n",
              "Stroke                       0\n",
              "HeartDiseaseorAttack         1\n",
              "Physical Activity            1\n",
              "Fruits                       2\n",
              "Veggies                      1\n",
              "Heavy Alcohol Consumption    1\n",
              "Any Health Care              2\n",
              "No Doctor because of Cost    2\n",
              "General Health               1\n",
              "Mental Health                1\n",
              "Physical Health              1\n",
              "Difficulty Walking           2\n",
              "Sex                          1\n",
              "Age                          1\n",
              "Education                    1\n",
              "Income                       1\n",
              "dtype: int64"
            ]
          },
          "execution_count": 3,
          "metadata": {},
          "output_type": "execute_result"
        }
      ],
      "source": [
        "dataFrame.isna().sum()"
      ]
    },
    {
      "cell_type": "code",
      "execution_count": null,
      "metadata": {
        "id": "VRd1xCpuYHCC",
        "outputId": "4adcbc76-ff66-45b8-c655-85512bc6355c"
      },
      "outputs": [
        {
          "data": {
            "text/plain": [
              "27.0    6327\n",
              "26.0    4975\n",
              "28.0    4583\n",
              "24.0    4392\n",
              "30.0    4344\n",
              "        ... \n",
              "12.0       1\n",
              "74.0       1\n",
              "78.0       1\n",
              "85.0       1\n",
              "80.0       1\n",
              "Name: BMI, Length: 80, dtype: int64"
            ]
          },
          "execution_count": 4,
          "metadata": {},
          "output_type": "execute_result"
        }
      ],
      "source": [
        "dataFrame[\"BMI\"].value_counts()"
      ]
    },
    {
      "cell_type": "code",
      "execution_count": null,
      "metadata": {
        "id": "nUbXlbXtYHCE",
        "outputId": "3121fc6a-4a1c-4db6-d111-7146d01891a2"
      },
      "outputs": [
        {
          "data": {
            "text/plain": [
              "count    70691.000000\n",
              "mean        29.856955\n",
              "std          7.114000\n",
              "min         12.000000\n",
              "25%         25.000000\n",
              "50%         29.000000\n",
              "75%         33.000000\n",
              "max         98.000000\n",
              "Name: BMI, dtype: float64"
            ]
          },
          "execution_count": 5,
          "metadata": {},
          "output_type": "execute_result"
        }
      ],
      "source": [
        "dataFrame[\"BMI\"].describe()"
      ]
    },
    {
      "cell_type": "code",
      "execution_count": null,
      "metadata": {
        "id": "pEarQ-T3YHCJ",
        "outputId": "50dcd482-23b1-4c5c-ff9a-7fe94dddb652"
      },
      "outputs": [
        {
          "data": {
            "text/html": [
              "<div>\n",
              "<style scoped>\n",
              "    .dataframe tbody tr th:only-of-type {\n",
              "        vertical-align: middle;\n",
              "    }\n",
              "\n",
              "    .dataframe tbody tr th {\n",
              "        vertical-align: top;\n",
              "    }\n",
              "\n",
              "    .dataframe thead th {\n",
              "        text-align: right;\n",
              "    }\n",
              "</style>\n",
              "<table border=\"1\" class=\"dataframe\">\n",
              "  <thead>\n",
              "    <tr style=\"text-align: right;\">\n",
              "      <th></th>\n",
              "      <th>Diabetes_binary</th>\n",
              "      <th>HighBP</th>\n",
              "      <th>High Cholesterol</th>\n",
              "      <th>Cholesterol Check</th>\n",
              "      <th>BMI</th>\n",
              "      <th>Smoker</th>\n",
              "      <th>Stroke</th>\n",
              "      <th>HeartDiseaseorAttack</th>\n",
              "      <th>Physical Activity</th>\n",
              "      <th>Fruits</th>\n",
              "      <th>...</th>\n",
              "      <th>Any Health Care</th>\n",
              "      <th>No Doctor because of Cost</th>\n",
              "      <th>General Health</th>\n",
              "      <th>Mental Health</th>\n",
              "      <th>Physical Health</th>\n",
              "      <th>Difficulty Walking</th>\n",
              "      <th>Sex</th>\n",
              "      <th>Age</th>\n",
              "      <th>Education</th>\n",
              "      <th>Income</th>\n",
              "    </tr>\n",
              "  </thead>\n",
              "  <tbody>\n",
              "    <tr>\n",
              "      <th>50000</th>\n",
              "      <td>1.0</td>\n",
              "      <td>1.0</td>\n",
              "      <td>1.0</td>\n",
              "      <td>1.0</td>\n",
              "      <td>NaN</td>\n",
              "      <td>0.0</td>\n",
              "      <td>0.0</td>\n",
              "      <td>0.0</td>\n",
              "      <td>0.0</td>\n",
              "      <td>1.0</td>\n",
              "      <td>...</td>\n",
              "      <td>1.0</td>\n",
              "      <td>0.0</td>\n",
              "      <td>Medium</td>\n",
              "      <td>2.0</td>\n",
              "      <td>2.0</td>\n",
              "      <td>0.0</td>\n",
              "      <td>female</td>\n",
              "      <td>9.0</td>\n",
              "      <td>Cat6</td>\n",
              "      <td>Cat8</td>\n",
              "    </tr>\n",
              "  </tbody>\n",
              "</table>\n",
              "<p>1 rows × 22 columns</p>\n",
              "</div>"
            ],
            "text/plain": [
              "       Diabetes_binary  HighBP  High Cholesterol  Cholesterol Check  BMI  \\\n",
              "50000              1.0     1.0               1.0                1.0  NaN   \n",
              "\n",
              "       Smoker  Stroke  HeartDiseaseorAttack  Physical Activity  Fruits  ...  \\\n",
              "50000     0.0     0.0                   0.0                0.0     1.0  ...   \n",
              "\n",
              "       Any Health Care  No Doctor because of Cost  General Health  \\\n",
              "50000              1.0                        0.0          Medium   \n",
              "\n",
              "       Mental Health Physical Health  Difficulty Walking     Sex  Age  \\\n",
              "50000            2.0             2.0                 0.0  female  9.0   \n",
              "\n",
              "      Education  Income  \n",
              "50000      Cat6    Cat8  \n",
              "\n",
              "[1 rows x 22 columns]"
            ]
          },
          "execution_count": 6,
          "metadata": {},
          "output_type": "execute_result"
        }
      ],
      "source": [
        "dataFrame.loc[dataFrame['BMI'].isna(), :]"
      ]
    },
    {
      "cell_type": "markdown",
      "metadata": {
        "id": "QBHYII8MYHCK"
      },
      "source": [
        "<div dir=\"rtl\"><p style=\"font-size: 20px\">\n",
        "در بلاک زیر تعداد NaN ها را در سطر مد نظر پیدا می کنیم و می بینیم که تنها 1 مقدار NaN وجود دارد پس بهتر است که سطر را حذف نکنیم.\n",
        "</p></div>"
      ]
    },
    {
      "cell_type": "code",
      "execution_count": null,
      "metadata": {
        "id": "n1WX0PGIYHCL",
        "outputId": "bf0b67ba-3ad0-4b57-9f14-358f8a10b540"
      },
      "outputs": [
        {
          "data": {
            "text/plain": [
              "1"
            ]
          },
          "execution_count": 7,
          "metadata": {},
          "output_type": "execute_result"
        }
      ],
      "source": [
        "dataFrame.loc[50000].isna().sum()"
      ]
    },
    {
      "cell_type": "code",
      "execution_count": null,
      "metadata": {
        "id": "mluK3yRoYHCN"
      },
      "outputs": [],
      "source": [
        "median = dataFrame[\"BMI\"].median()\n",
        "dataFrame[\"BMI\"] = dataFrame[\"BMI\"].fillna(median);"
      ]
    },
    {
      "cell_type": "code",
      "execution_count": null,
      "metadata": {
        "id": "O9s45hxsYHCP",
        "outputId": "3e6ee27d-e5da-4421-927d-d06f6aef6792"
      },
      "outputs": [
        {
          "data": {
            "text/plain": [
              "0.0    60242\n",
              "1.0    10449\n",
              "Name: HeartDiseaseorAttack, dtype: int64"
            ]
          },
          "execution_count": 9,
          "metadata": {},
          "output_type": "execute_result"
        }
      ],
      "source": [
        "dataFrame[\"HeartDiseaseorAttack\"].value_counts()"
      ]
    },
    {
      "cell_type": "code",
      "execution_count": null,
      "metadata": {
        "id": "nHq25-PAYHCQ",
        "outputId": "2003c64e-8375-4890-a639-9827505af26a"
      },
      "outputs": [
        {
          "data": {
            "text/html": [
              "<div>\n",
              "<style scoped>\n",
              "    .dataframe tbody tr th:only-of-type {\n",
              "        vertical-align: middle;\n",
              "    }\n",
              "\n",
              "    .dataframe tbody tr th {\n",
              "        vertical-align: top;\n",
              "    }\n",
              "\n",
              "    .dataframe thead th {\n",
              "        text-align: right;\n",
              "    }\n",
              "</style>\n",
              "<table border=\"1\" class=\"dataframe\">\n",
              "  <thead>\n",
              "    <tr style=\"text-align: right;\">\n",
              "      <th></th>\n",
              "      <th>Diabetes_binary</th>\n",
              "      <th>HighBP</th>\n",
              "      <th>High Cholesterol</th>\n",
              "      <th>Cholesterol Check</th>\n",
              "      <th>BMI</th>\n",
              "      <th>Smoker</th>\n",
              "      <th>Stroke</th>\n",
              "      <th>HeartDiseaseorAttack</th>\n",
              "      <th>Physical Activity</th>\n",
              "      <th>Fruits</th>\n",
              "      <th>...</th>\n",
              "      <th>Any Health Care</th>\n",
              "      <th>No Doctor because of Cost</th>\n",
              "      <th>General Health</th>\n",
              "      <th>Mental Health</th>\n",
              "      <th>Physical Health</th>\n",
              "      <th>Difficulty Walking</th>\n",
              "      <th>Sex</th>\n",
              "      <th>Age</th>\n",
              "      <th>Education</th>\n",
              "      <th>Income</th>\n",
              "    </tr>\n",
              "  </thead>\n",
              "  <tbody>\n",
              "    <tr>\n",
              "      <th>11691</th>\n",
              "      <td>0.0</td>\n",
              "      <td>0.0</td>\n",
              "      <td>0.0</td>\n",
              "      <td>1.0</td>\n",
              "      <td>27.0</td>\n",
              "      <td>0.0</td>\n",
              "      <td>0.0</td>\n",
              "      <td>NaN</td>\n",
              "      <td>NaN</td>\n",
              "      <td>NaN</td>\n",
              "      <td>...</td>\n",
              "      <td>NaN</td>\n",
              "      <td>NaN</td>\n",
              "      <td>NaN</td>\n",
              "      <td>NaN</td>\n",
              "      <td>NaN</td>\n",
              "      <td>NaN</td>\n",
              "      <td>NaN</td>\n",
              "      <td>NaN</td>\n",
              "      <td>NaN</td>\n",
              "      <td>NaN</td>\n",
              "    </tr>\n",
              "  </tbody>\n",
              "</table>\n",
              "<p>1 rows × 22 columns</p>\n",
              "</div>"
            ],
            "text/plain": [
              "       Diabetes_binary  HighBP  High Cholesterol  Cholesterol Check   BMI  \\\n",
              "11691              0.0     0.0               0.0                1.0  27.0   \n",
              "\n",
              "       Smoker  Stroke  HeartDiseaseorAttack  Physical Activity  Fruits  ...  \\\n",
              "11691     0.0     0.0                   NaN                NaN     NaN  ...   \n",
              "\n",
              "       Any Health Care  No Doctor because of Cost  General Health  \\\n",
              "11691              NaN                        NaN             NaN   \n",
              "\n",
              "       Mental Health Physical Health  Difficulty Walking  Sex  Age Education  \\\n",
              "11691            NaN             NaN                 NaN  NaN  NaN       NaN   \n",
              "\n",
              "       Income  \n",
              "11691     NaN  \n",
              "\n",
              "[1 rows x 22 columns]"
            ]
          },
          "execution_count": 10,
          "metadata": {},
          "output_type": "execute_result"
        }
      ],
      "source": [
        "dataFrame.loc[dataFrame['HeartDiseaseorAttack'].isna(), :]"
      ]
    },
    {
      "cell_type": "code",
      "execution_count": null,
      "metadata": {
        "id": "uzT8fhG0YHCS",
        "outputId": "2cf2afd7-6cf9-4305-da41-eda82df2cd50"
      },
      "outputs": [
        {
          "data": {
            "text/plain": [
              "15"
            ]
          },
          "execution_count": 11,
          "metadata": {},
          "output_type": "execute_result"
        }
      ],
      "source": [
        "dataFrame.loc[11691].isna().sum()"
      ]
    },
    {
      "cell_type": "code",
      "execution_count": null,
      "metadata": {
        "id": "bHN5HDb6YHCT"
      },
      "outputs": [],
      "source": [
        "dataFrame = dataFrame.drop(11691)"
      ]
    },
    {
      "cell_type": "code",
      "execution_count": null,
      "metadata": {
        "id": "il_t9EkfYHCU",
        "outputId": "7a6cebdc-cae6-498b-a1ba-0d16bac850e3"
      },
      "outputs": [
        {
          "data": {
            "text/plain": [
              "Diabetes_binary              0\n",
              "HighBP                       0\n",
              "High Cholesterol             0\n",
              "Cholesterol Check            0\n",
              "BMI                          0\n",
              "Smoker                       0\n",
              "Stroke                       0\n",
              "HeartDiseaseorAttack         0\n",
              "Physical Activity            0\n",
              "Fruits                       1\n",
              "Veggies                      0\n",
              "Heavy Alcohol Consumption    0\n",
              "Any Health Care              1\n",
              "No Doctor because of Cost    1\n",
              "General Health               0\n",
              "Mental Health                0\n",
              "Physical Health              0\n",
              "Difficulty Walking           1\n",
              "Sex                          0\n",
              "Age                          0\n",
              "Education                    0\n",
              "Income                       0\n",
              "dtype: int64"
            ]
          },
          "execution_count": 13,
          "metadata": {},
          "output_type": "execute_result"
        }
      ],
      "source": [
        "dataFrame.isna().sum()"
      ]
    },
    {
      "cell_type": "code",
      "execution_count": null,
      "metadata": {
        "id": "85Gh9c-1YHCY",
        "outputId": "146a1810-a739-486f-cfa5-fa8723bff3bf"
      },
      "outputs": [
        {
          "data": {
            "text/plain": [
              "1.0    43247\n",
              "0.0    27443\n",
              "Name: Fruits, dtype: int64"
            ]
          },
          "execution_count": 14,
          "metadata": {},
          "output_type": "execute_result"
        }
      ],
      "source": [
        "dataFrame[\"Fruits\"].value_counts()"
      ]
    },
    {
      "cell_type": "code",
      "execution_count": null,
      "metadata": {
        "id": "1rVh5U34YHCa",
        "outputId": "07284134-3093-4945-959a-9e8a819be7fc"
      },
      "outputs": [
        {
          "data": {
            "text/html": [
              "<div>\n",
              "<style scoped>\n",
              "    .dataframe tbody tr th:only-of-type {\n",
              "        vertical-align: middle;\n",
              "    }\n",
              "\n",
              "    .dataframe tbody tr th {\n",
              "        vertical-align: top;\n",
              "    }\n",
              "\n",
              "    .dataframe thead th {\n",
              "        text-align: right;\n",
              "    }\n",
              "</style>\n",
              "<table border=\"1\" class=\"dataframe\">\n",
              "  <thead>\n",
              "    <tr style=\"text-align: right;\">\n",
              "      <th></th>\n",
              "      <th>Diabetes_binary</th>\n",
              "      <th>HighBP</th>\n",
              "      <th>High Cholesterol</th>\n",
              "      <th>Cholesterol Check</th>\n",
              "      <th>BMI</th>\n",
              "      <th>Smoker</th>\n",
              "      <th>Stroke</th>\n",
              "      <th>HeartDiseaseorAttack</th>\n",
              "      <th>Physical Activity</th>\n",
              "      <th>Fruits</th>\n",
              "      <th>...</th>\n",
              "      <th>Any Health Care</th>\n",
              "      <th>No Doctor because of Cost</th>\n",
              "      <th>General Health</th>\n",
              "      <th>Mental Health</th>\n",
              "      <th>Physical Health</th>\n",
              "      <th>Difficulty Walking</th>\n",
              "      <th>Sex</th>\n",
              "      <th>Age</th>\n",
              "      <th>Education</th>\n",
              "      <th>Income</th>\n",
              "    </tr>\n",
              "  </thead>\n",
              "  <tbody>\n",
              "    <tr>\n",
              "      <th>10000</th>\n",
              "      <td>0.0</td>\n",
              "      <td>0.0</td>\n",
              "      <td>1.0</td>\n",
              "      <td>1.0</td>\n",
              "      <td>21.0</td>\n",
              "      <td>1.0</td>\n",
              "      <td>1.0</td>\n",
              "      <td>0.0</td>\n",
              "      <td>0.0</td>\n",
              "      <td>NaN</td>\n",
              "      <td>...</td>\n",
              "      <td>1.0</td>\n",
              "      <td>0.0</td>\n",
              "      <td>Low</td>\n",
              "      <td>0.0</td>\n",
              "      <td>30.0</td>\n",
              "      <td>0.0</td>\n",
              "      <td>male</td>\n",
              "      <td>13.0</td>\n",
              "      <td>Cat5</td>\n",
              "      <td>Cat7</td>\n",
              "    </tr>\n",
              "  </tbody>\n",
              "</table>\n",
              "<p>1 rows × 22 columns</p>\n",
              "</div>"
            ],
            "text/plain": [
              "       Diabetes_binary  HighBP  High Cholesterol  Cholesterol Check   BMI  \\\n",
              "10000              0.0     0.0               1.0                1.0  21.0   \n",
              "\n",
              "       Smoker  Stroke  HeartDiseaseorAttack  Physical Activity  Fruits  ...  \\\n",
              "10000     1.0     1.0                   0.0                0.0     NaN  ...   \n",
              "\n",
              "       Any Health Care  No Doctor because of Cost  General Health  \\\n",
              "10000              1.0                        0.0             Low   \n",
              "\n",
              "       Mental Health Physical Health  Difficulty Walking   Sex   Age  \\\n",
              "10000            0.0            30.0                 0.0  male  13.0   \n",
              "\n",
              "      Education  Income  \n",
              "10000      Cat5    Cat7  \n",
              "\n",
              "[1 rows x 22 columns]"
            ]
          },
          "execution_count": 15,
          "metadata": {},
          "output_type": "execute_result"
        }
      ],
      "source": [
        "dataFrame.loc[dataFrame['Fruits'].isna(), :]"
      ]
    },
    {
      "cell_type": "code",
      "execution_count": null,
      "metadata": {
        "id": "3IV3ZDnhYHCc",
        "outputId": "f80637d4-9922-45f1-bd42-7cbf668e161a"
      },
      "outputs": [
        {
          "data": {
            "text/plain": [
              "1"
            ]
          },
          "execution_count": 16,
          "metadata": {},
          "output_type": "execute_result"
        }
      ],
      "source": [
        "dataFrame.loc[10000].isna().sum()"
      ]
    },
    {
      "cell_type": "code",
      "execution_count": null,
      "metadata": {
        "id": "eyOVScc8YHCd"
      },
      "outputs": [],
      "source": [
        "mode = dataFrame[\"Fruits\"].mode()[0]\n",
        "dataFrame[\"Fruits\"] = dataFrame[\"Fruits\"].fillna(mode)"
      ]
    },
    {
      "cell_type": "code",
      "execution_count": null,
      "metadata": {
        "id": "dQOUH5r0YHCe",
        "outputId": "0eb068ed-01fe-4357-b3f8-715870b723ee"
      },
      "outputs": [
        {
          "data": {
            "text/plain": [
              "1.0    67506\n",
              "0.0     3184\n",
              "Name: Any Health Care, dtype: int64"
            ]
          },
          "execution_count": 18,
          "metadata": {},
          "output_type": "execute_result"
        }
      ],
      "source": [
        "dataFrame[\"Any Health Care\"].value_counts()"
      ]
    },
    {
      "cell_type": "code",
      "execution_count": null,
      "metadata": {
        "id": "ZFVqVxabYHCe",
        "outputId": "d4d7cf54-ae35-42b4-c020-165501c96e75"
      },
      "outputs": [
        {
          "data": {
            "text/html": [
              "<div>\n",
              "<style scoped>\n",
              "    .dataframe tbody tr th:only-of-type {\n",
              "        vertical-align: middle;\n",
              "    }\n",
              "\n",
              "    .dataframe tbody tr th {\n",
              "        vertical-align: top;\n",
              "    }\n",
              "\n",
              "    .dataframe thead th {\n",
              "        text-align: right;\n",
              "    }\n",
              "</style>\n",
              "<table border=\"1\" class=\"dataframe\">\n",
              "  <thead>\n",
              "    <tr style=\"text-align: right;\">\n",
              "      <th></th>\n",
              "      <th>Diabetes_binary</th>\n",
              "      <th>HighBP</th>\n",
              "      <th>High Cholesterol</th>\n",
              "      <th>Cholesterol Check</th>\n",
              "      <th>BMI</th>\n",
              "      <th>Smoker</th>\n",
              "      <th>Stroke</th>\n",
              "      <th>HeartDiseaseorAttack</th>\n",
              "      <th>Physical Activity</th>\n",
              "      <th>Fruits</th>\n",
              "      <th>...</th>\n",
              "      <th>Any Health Care</th>\n",
              "      <th>No Doctor because of Cost</th>\n",
              "      <th>General Health</th>\n",
              "      <th>Mental Health</th>\n",
              "      <th>Physical Health</th>\n",
              "      <th>Difficulty Walking</th>\n",
              "      <th>Sex</th>\n",
              "      <th>Age</th>\n",
              "      <th>Education</th>\n",
              "      <th>Income</th>\n",
              "    </tr>\n",
              "  </thead>\n",
              "  <tbody>\n",
              "    <tr>\n",
              "      <th>20000</th>\n",
              "      <td>0.0</td>\n",
              "      <td>1.0</td>\n",
              "      <td>0.0</td>\n",
              "      <td>1.0</td>\n",
              "      <td>26.0</td>\n",
              "      <td>0.0</td>\n",
              "      <td>0.0</td>\n",
              "      <td>0.0</td>\n",
              "      <td>1.0</td>\n",
              "      <td>1.0</td>\n",
              "      <td>...</td>\n",
              "      <td>NaN</td>\n",
              "      <td>0.0</td>\n",
              "      <td>Good</td>\n",
              "      <td>0.0</td>\n",
              "      <td>0.0</td>\n",
              "      <td>1.0</td>\n",
              "      <td>female</td>\n",
              "      <td>13.0</td>\n",
              "      <td>Cat3</td>\n",
              "      <td>Cat5</td>\n",
              "    </tr>\n",
              "  </tbody>\n",
              "</table>\n",
              "<p>1 rows × 22 columns</p>\n",
              "</div>"
            ],
            "text/plain": [
              "       Diabetes_binary  HighBP  High Cholesterol  Cholesterol Check   BMI  \\\n",
              "20000              0.0     1.0               0.0                1.0  26.0   \n",
              "\n",
              "       Smoker  Stroke  HeartDiseaseorAttack  Physical Activity  Fruits  ...  \\\n",
              "20000     0.0     0.0                   0.0                1.0     1.0  ...   \n",
              "\n",
              "       Any Health Care  No Doctor because of Cost  General Health  \\\n",
              "20000              NaN                        0.0            Good   \n",
              "\n",
              "       Mental Health Physical Health  Difficulty Walking     Sex   Age  \\\n",
              "20000            0.0             0.0                 1.0  female  13.0   \n",
              "\n",
              "      Education  Income  \n",
              "20000      Cat3    Cat5  \n",
              "\n",
              "[1 rows x 22 columns]"
            ]
          },
          "execution_count": 19,
          "metadata": {},
          "output_type": "execute_result"
        }
      ],
      "source": [
        "dataFrame.loc[dataFrame['Any Health Care'].isna(), :]"
      ]
    },
    {
      "cell_type": "code",
      "execution_count": null,
      "metadata": {
        "id": "pQHCJVa5YHCf",
        "outputId": "2a2a887c-c28a-4fcc-c331-4c479521e506"
      },
      "outputs": [
        {
          "data": {
            "text/plain": [
              "1"
            ]
          },
          "execution_count": 20,
          "metadata": {},
          "output_type": "execute_result"
        }
      ],
      "source": [
        "dataFrame.loc[20000].isna().sum()"
      ]
    },
    {
      "cell_type": "code",
      "execution_count": null,
      "metadata": {
        "id": "jOnYO6ygYHCg"
      },
      "outputs": [],
      "source": [
        "mode = dataFrame[\"Any Health Care\"].mode()[0]\n",
        "dataFrame[\"Any Health Care\"] = dataFrame[\"Any Health Care\"].fillna(mode);"
      ]
    },
    {
      "cell_type": "code",
      "execution_count": null,
      "metadata": {
        "id": "o95WQlNEYHCh",
        "outputId": "00e4823d-3d83-48e0-afd0-233d49d7470f"
      },
      "outputs": [
        {
          "data": {
            "text/plain": [
              "0.0    64051\n",
              "1.0     6639\n",
              "Name: No Doctor because of Cost, dtype: int64"
            ]
          },
          "execution_count": 22,
          "metadata": {},
          "output_type": "execute_result"
        }
      ],
      "source": [
        "dataFrame[\"No Doctor because of Cost\"].value_counts()"
      ]
    },
    {
      "cell_type": "code",
      "execution_count": null,
      "metadata": {
        "id": "zpucxkXoYHCi",
        "outputId": "50a06432-da0b-4379-b62c-d74a645e88d4"
      },
      "outputs": [
        {
          "data": {
            "text/html": [
              "<div>\n",
              "<style scoped>\n",
              "    .dataframe tbody tr th:only-of-type {\n",
              "        vertical-align: middle;\n",
              "    }\n",
              "\n",
              "    .dataframe tbody tr th {\n",
              "        vertical-align: top;\n",
              "    }\n",
              "\n",
              "    .dataframe thead th {\n",
              "        text-align: right;\n",
              "    }\n",
              "</style>\n",
              "<table border=\"1\" class=\"dataframe\">\n",
              "  <thead>\n",
              "    <tr style=\"text-align: right;\">\n",
              "      <th></th>\n",
              "      <th>Diabetes_binary</th>\n",
              "      <th>HighBP</th>\n",
              "      <th>High Cholesterol</th>\n",
              "      <th>Cholesterol Check</th>\n",
              "      <th>BMI</th>\n",
              "      <th>Smoker</th>\n",
              "      <th>Stroke</th>\n",
              "      <th>HeartDiseaseorAttack</th>\n",
              "      <th>Physical Activity</th>\n",
              "      <th>Fruits</th>\n",
              "      <th>...</th>\n",
              "      <th>Any Health Care</th>\n",
              "      <th>No Doctor because of Cost</th>\n",
              "      <th>General Health</th>\n",
              "      <th>Mental Health</th>\n",
              "      <th>Physical Health</th>\n",
              "      <th>Difficulty Walking</th>\n",
              "      <th>Sex</th>\n",
              "      <th>Age</th>\n",
              "      <th>Education</th>\n",
              "      <th>Income</th>\n",
              "    </tr>\n",
              "  </thead>\n",
              "  <tbody>\n",
              "    <tr>\n",
              "      <th>30000</th>\n",
              "      <td>0.0</td>\n",
              "      <td>0.0</td>\n",
              "      <td>0.0</td>\n",
              "      <td>1.0</td>\n",
              "      <td>22.0</td>\n",
              "      <td>0.0</td>\n",
              "      <td>0.0</td>\n",
              "      <td>0.0</td>\n",
              "      <td>1.0</td>\n",
              "      <td>1.0</td>\n",
              "      <td>...</td>\n",
              "      <td>1.0</td>\n",
              "      <td>NaN</td>\n",
              "      <td>Good</td>\n",
              "      <td>0.0</td>\n",
              "      <td>0.0</td>\n",
              "      <td>0.0</td>\n",
              "      <td>female</td>\n",
              "      <td>6.0</td>\n",
              "      <td>Cat6</td>\n",
              "      <td>Cat5</td>\n",
              "    </tr>\n",
              "  </tbody>\n",
              "</table>\n",
              "<p>1 rows × 22 columns</p>\n",
              "</div>"
            ],
            "text/plain": [
              "       Diabetes_binary  HighBP  High Cholesterol  Cholesterol Check   BMI  \\\n",
              "30000              0.0     0.0               0.0                1.0  22.0   \n",
              "\n",
              "       Smoker  Stroke  HeartDiseaseorAttack  Physical Activity  Fruits  ...  \\\n",
              "30000     0.0     0.0                   0.0                1.0     1.0  ...   \n",
              "\n",
              "       Any Health Care  No Doctor because of Cost  General Health  \\\n",
              "30000              1.0                        NaN            Good   \n",
              "\n",
              "       Mental Health Physical Health  Difficulty Walking     Sex  Age  \\\n",
              "30000            0.0             0.0                 0.0  female  6.0   \n",
              "\n",
              "      Education  Income  \n",
              "30000      Cat6    Cat5  \n",
              "\n",
              "[1 rows x 22 columns]"
            ]
          },
          "execution_count": 23,
          "metadata": {},
          "output_type": "execute_result"
        }
      ],
      "source": [
        "dataFrame.loc[dataFrame['No Doctor because of Cost'].isna(), :]"
      ]
    },
    {
      "cell_type": "code",
      "execution_count": null,
      "metadata": {
        "id": "6e6fqKtJYHCj",
        "outputId": "04494b89-d2f8-4f84-819f-e5851687b41f"
      },
      "outputs": [
        {
          "data": {
            "text/plain": [
              "1"
            ]
          },
          "execution_count": 24,
          "metadata": {},
          "output_type": "execute_result"
        }
      ],
      "source": [
        "dataFrame.loc[30000].isna().sum()"
      ]
    },
    {
      "cell_type": "code",
      "execution_count": null,
      "metadata": {
        "id": "sWeFmUxYYHCj"
      },
      "outputs": [],
      "source": [
        "mode = dataFrame[\"No Doctor because of Cost\"].mode()[0]\n",
        "dataFrame[\"No Doctor because of Cost\"] = dataFrame[\"No Doctor because of Cost\"].fillna(mode)"
      ]
    },
    {
      "cell_type": "code",
      "execution_count": null,
      "metadata": {
        "id": "EocN9SlZYHCk",
        "outputId": "1c8d3f4b-c11c-4cd3-8285-b76c17ff3b54"
      },
      "outputs": [
        {
          "data": {
            "text/plain": [
              "0.0    52824\n",
              "1.0    17866\n",
              "Name: Difficulty Walking, dtype: int64"
            ]
          },
          "execution_count": 26,
          "metadata": {},
          "output_type": "execute_result"
        }
      ],
      "source": [
        "dataFrame[\"Difficulty Walking\"].value_counts()"
      ]
    },
    {
      "cell_type": "code",
      "execution_count": null,
      "metadata": {
        "id": "5p-k960xYHCl",
        "outputId": "b9ea54e4-2b05-442b-ff0e-035155f7c428"
      },
      "outputs": [
        {
          "data": {
            "text/html": [
              "<div>\n",
              "<style scoped>\n",
              "    .dataframe tbody tr th:only-of-type {\n",
              "        vertical-align: middle;\n",
              "    }\n",
              "\n",
              "    .dataframe tbody tr th {\n",
              "        vertical-align: top;\n",
              "    }\n",
              "\n",
              "    .dataframe thead th {\n",
              "        text-align: right;\n",
              "    }\n",
              "</style>\n",
              "<table border=\"1\" class=\"dataframe\">\n",
              "  <thead>\n",
              "    <tr style=\"text-align: right;\">\n",
              "      <th></th>\n",
              "      <th>Diabetes_binary</th>\n",
              "      <th>HighBP</th>\n",
              "      <th>High Cholesterol</th>\n",
              "      <th>Cholesterol Check</th>\n",
              "      <th>BMI</th>\n",
              "      <th>Smoker</th>\n",
              "      <th>Stroke</th>\n",
              "      <th>HeartDiseaseorAttack</th>\n",
              "      <th>Physical Activity</th>\n",
              "      <th>Fruits</th>\n",
              "      <th>...</th>\n",
              "      <th>Any Health Care</th>\n",
              "      <th>No Doctor because of Cost</th>\n",
              "      <th>General Health</th>\n",
              "      <th>Mental Health</th>\n",
              "      <th>Physical Health</th>\n",
              "      <th>Difficulty Walking</th>\n",
              "      <th>Sex</th>\n",
              "      <th>Age</th>\n",
              "      <th>Education</th>\n",
              "      <th>Income</th>\n",
              "    </tr>\n",
              "  </thead>\n",
              "  <tbody>\n",
              "    <tr>\n",
              "      <th>40000</th>\n",
              "      <td>1.0</td>\n",
              "      <td>1.0</td>\n",
              "      <td>0.0</td>\n",
              "      <td>1.0</td>\n",
              "      <td>32.0</td>\n",
              "      <td>1.0</td>\n",
              "      <td>0.0</td>\n",
              "      <td>0.0</td>\n",
              "      <td>0.0</td>\n",
              "      <td>1.0</td>\n",
              "      <td>...</td>\n",
              "      <td>1.0</td>\n",
              "      <td>0.0</td>\n",
              "      <td>Medium</td>\n",
              "      <td>0.0</td>\n",
              "      <td>0.0</td>\n",
              "      <td>NaN</td>\n",
              "      <td>male</td>\n",
              "      <td>8.0</td>\n",
              "      <td>Cat5</td>\n",
              "      <td>Cat7</td>\n",
              "    </tr>\n",
              "  </tbody>\n",
              "</table>\n",
              "<p>1 rows × 22 columns</p>\n",
              "</div>"
            ],
            "text/plain": [
              "       Diabetes_binary  HighBP  High Cholesterol  Cholesterol Check   BMI  \\\n",
              "40000              1.0     1.0               0.0                1.0  32.0   \n",
              "\n",
              "       Smoker  Stroke  HeartDiseaseorAttack  Physical Activity  Fruits  ...  \\\n",
              "40000     1.0     0.0                   0.0                0.0     1.0  ...   \n",
              "\n",
              "       Any Health Care  No Doctor because of Cost  General Health  \\\n",
              "40000              1.0                        0.0          Medium   \n",
              "\n",
              "       Mental Health Physical Health  Difficulty Walking   Sex  Age Education  \\\n",
              "40000            0.0             0.0                 NaN  male  8.0      Cat5   \n",
              "\n",
              "       Income  \n",
              "40000    Cat7  \n",
              "\n",
              "[1 rows x 22 columns]"
            ]
          },
          "execution_count": 27,
          "metadata": {},
          "output_type": "execute_result"
        }
      ],
      "source": [
        "dataFrame.loc[dataFrame['Difficulty Walking'].isna(), :]"
      ]
    },
    {
      "cell_type": "code",
      "execution_count": null,
      "metadata": {
        "id": "AvK4zz4EYHCm",
        "outputId": "043bd577-601d-4223-fa05-6f2d509bbdce"
      },
      "outputs": [
        {
          "data": {
            "text/plain": [
              "1"
            ]
          },
          "execution_count": 28,
          "metadata": {},
          "output_type": "execute_result"
        }
      ],
      "source": [
        "dataFrame.loc[40000].isna().sum()"
      ]
    },
    {
      "cell_type": "code",
      "execution_count": null,
      "metadata": {
        "id": "rdSdtd9MYHCr"
      },
      "outputs": [],
      "source": [
        "mode = dataFrame[\"Difficulty Walking\"].mode()[0]\n",
        "dataFrame[\"Difficulty Walking\"] = dataFrame[\"Difficulty Walking\"].fillna(mode)"
      ]
    },
    {
      "cell_type": "code",
      "execution_count": null,
      "metadata": {
        "id": "tRMrsLCaYHCs",
        "outputId": "5a82b90d-8113-469c-915c-8fb3abe8a936"
      },
      "outputs": [
        {
          "data": {
            "text/plain": [
              "Diabetes_binary              0\n",
              "HighBP                       0\n",
              "High Cholesterol             0\n",
              "Cholesterol Check            0\n",
              "BMI                          0\n",
              "Smoker                       0\n",
              "Stroke                       0\n",
              "HeartDiseaseorAttack         0\n",
              "Physical Activity            0\n",
              "Fruits                       0\n",
              "Veggies                      0\n",
              "Heavy Alcohol Consumption    0\n",
              "Any Health Care              0\n",
              "No Doctor because of Cost    0\n",
              "General Health               0\n",
              "Mental Health                0\n",
              "Physical Health              0\n",
              "Difficulty Walking           0\n",
              "Sex                          0\n",
              "Age                          0\n",
              "Education                    0\n",
              "Income                       0\n",
              "dtype: int64"
            ]
          },
          "execution_count": 30,
          "metadata": {},
          "output_type": "execute_result"
        }
      ],
      "source": [
        "dataFrame.isna().sum()"
      ]
    },
    {
      "cell_type": "code",
      "execution_count": null,
      "metadata": {
        "id": "SgJ-ZytVYHCs",
        "outputId": "78ba4f43-a78c-4e9a-e086-2a9ddf63eba9"
      },
      "outputs": [
        {
          "data": {
            "text/plain": [
              "Diabetes_binary              0\n",
              "HighBP                       0\n",
              "High Cholesterol             0\n",
              "Cholesterol Check            0\n",
              "BMI                          0\n",
              "Smoker                       0\n",
              "Stroke                       0\n",
              "HeartDiseaseorAttack         0\n",
              "Physical Activity            0\n",
              "Fruits                       0\n",
              "Veggies                      0\n",
              "Heavy Alcohol Consumption    0\n",
              "Any Health Care              0\n",
              "No Doctor because of Cost    0\n",
              "General Health               0\n",
              "Mental Health                0\n",
              "Physical Health              0\n",
              "Difficulty Walking           0\n",
              "Sex                          0\n",
              "Age                          0\n",
              "Education                    0\n",
              "Income                       0\n",
              "dtype: int64"
            ]
          },
          "execution_count": 32,
          "metadata": {},
          "output_type": "execute_result"
        }
      ],
      "source": [
        "dataFrame.isnull().sum()"
      ]
    },
    {
      "cell_type": "code",
      "execution_count": null,
      "metadata": {
        "id": "7odOjNsWYHCt",
        "outputId": "6d0ee95b-1769-4df3-e873-67e68f97adbd"
      },
      "outputs": [
        {
          "name": "stdout",
          "output_type": "stream",
          "text": [
            "1.0    35346\n",
            "0.0    35345\n",
            "Name: Diabetes_binary, dtype: int64\n",
            "---------------------------\n",
            "1.0    39832\n",
            "0.0    30859\n",
            "Name: HighBP, dtype: int64\n",
            "---------------------------\n",
            "1.0    37163\n",
            "0.0    33528\n",
            "Name: High Cholesterol, dtype: int64\n",
            "---------------------------\n",
            "1.0    68942\n",
            "0.0     1749\n",
            "Name: Cholesterol Check, dtype: int64\n",
            "---------------------------\n",
            "27.0    6326\n",
            "26.0    4975\n",
            "28.0    4583\n",
            "24.0    4392\n",
            "30.0    4344\n",
            "        ... \n",
            "12.0       1\n",
            "74.0       1\n",
            "78.0       1\n",
            "85.0       1\n",
            "80.0       1\n",
            "Name: BMI, Length: 80, dtype: int64\n",
            "---------------------------\n",
            "0.0    37093\n",
            "1.0    33598\n",
            "Name: Smoker, dtype: int64\n",
            "---------------------------\n",
            "0.0    66296\n",
            "1.0     4395\n",
            "Name: Stroke, dtype: int64\n",
            "---------------------------\n",
            "0.0    60242\n",
            "1.0    10449\n",
            "Name: HeartDiseaseorAttack, dtype: int64\n",
            "---------------------------\n",
            "1.0    49698\n",
            "0.0    20993\n",
            "Name: Physical Activity, dtype: int64\n",
            "---------------------------\n",
            "1.0    43248\n",
            "0.0    27443\n",
            "Name: Fruits, dtype: int64\n",
            "---------------------------\n",
            "1.0    55759\n",
            "0.0    14932\n",
            "Name: Veggies, dtype: int64\n",
            "---------------------------\n",
            "0.0    67671\n",
            "1.0     3020\n",
            "Name: Heavy Alcohol Consumption, dtype: int64\n",
            "---------------------------\n",
            "1.0    67507\n",
            "0.0     3184\n",
            "Name: Any Health Care, dtype: int64\n",
            "---------------------------\n",
            "0.0    64052\n",
            "1.0     6639\n",
            "Name: No Doctor because of Cost, dtype: int64\n",
            "---------------------------\n",
            "Medium      23427\n",
            "Good        19871\n",
            "Low         13303\n",
            "High         8282\n",
            "Very Low     5808\n",
            "Name: General Health, dtype: int64\n",
            "---------------------------\n",
            "0.0     48091\n",
            "30.0     4320\n",
            "2.0      3266\n",
            "5.0      2519\n",
            "1.0      2051\n",
            "3.0      1967\n",
            "10.0     1924\n",
            "15.0     1767\n",
            "20.0     1125\n",
            "4.0       981\n",
            "7.0       825\n",
            "25.0      425\n",
            "14.0      353\n",
            "6.0       288\n",
            "8.0       198\n",
            "12.0      130\n",
            "28.0       99\n",
            "21.0       84\n",
            "29.0       53\n",
            "18.0       42\n",
            "9.0        28\n",
            "16.0       28\n",
            "22.0       22\n",
            "17.0       18\n",
            "26.0       17\n",
            "27.0       17\n",
            "13.0       15\n",
            "23.0       13\n",
            "24.0       10\n",
            "11.0        8\n",
            "19.0        7\n",
            "Name: Mental Health, dtype: int64\n",
            "---------------------------\n",
            "0.0     39914\n",
            "30.0     7953\n",
            "2.0      4102\n",
            "1.0      2853\n",
            "3.0      2438\n",
            "5.0      2332\n",
            "10.0     1980\n",
            "15.0     1913\n",
            "4.0      1376\n",
            "7.0      1326\n",
            "20.0     1292\n",
            "14.0      802\n",
            "25.0      557\n",
            "6.0       447\n",
            "8.0       276\n",
            "21.0      229\n",
            "28.0      211\n",
            "12.0      205\n",
            "29.0       95\n",
            "9.0        55\n",
            "16.0       50\n",
            "18.0       50\n",
            "17.0       35\n",
            "27.0       34\n",
            "22.0       31\n",
            "23.0       27\n",
            "13.0       26\n",
            "26.0       26\n",
            "24.0       24\n",
            "11.0       22\n",
            "19.0       10\n",
            "Name: Physical Health, dtype: int64\n",
            "---------------------------\n",
            "0.0    52825\n",
            "1.0    17866\n",
            "Name: Difficulty Walking, dtype: int64\n",
            "---------------------------\n",
            "female    38385\n",
            "male      32306\n",
            "Name: Sex, dtype: int64\n",
            "---------------------------\n",
            "10.0    10856\n",
            "9.0     10112\n",
            "8.0      8603\n",
            "11.0     8044\n",
            "7.0      6872\n",
            "13.0     5426\n",
            "12.0     5394\n",
            "6.0      4648\n",
            "5.0      3519\n",
            "4.0      2793\n",
            "3.0      2049\n",
            "2.0      1396\n",
            "1.0       979\n",
            "Name: Age, dtype: int64\n",
            "---------------------------\n",
            "Cat6    26019\n",
            "Cat5    20030\n",
            "Cat4    19473\n",
            "Cat3     3447\n",
            "Cat2     1647\n",
            "Cat1       75\n",
            "Name: Education, dtype: int64\n",
            "---------------------------\n",
            "Cat8       20645\n",
            "Cat7       11425\n",
            "Cat6       10287\n",
            "Cat5        8010\n",
            "Cat4        6658\n",
            "Cat3        5556\n",
            "Cat2        4498\n",
            "Cat1        3611\n",
            "Unknown        1\n",
            "Name: Income, dtype: int64\n",
            "---------------------------\n"
          ]
        }
      ],
      "source": [
        "for i in dataFrame:\n",
        "    print(dataFrame[i].value_counts())\n",
        "    print('---------------------------')"
      ]
    },
    {
      "cell_type": "code",
      "execution_count": null,
      "metadata": {
        "id": "SjevyAQlYHCt",
        "outputId": "ed0b26e6-3051-4e8d-d6ae-1074ab308f2f"
      },
      "outputs": [
        {
          "data": {
            "text/plain": [
              "Cat8       20645\n",
              "Cat7       11425\n",
              "Cat6       10287\n",
              "Cat5        8010\n",
              "Cat4        6658\n",
              "Cat3        5556\n",
              "Cat2        4498\n",
              "Cat1        3611\n",
              "Unknown        1\n",
              "Name: Income, dtype: int64"
            ]
          },
          "execution_count": 33,
          "metadata": {},
          "output_type": "execute_result"
        }
      ],
      "source": [
        "dataFrame[\"Income\"].value_counts()"
      ]
    },
    {
      "cell_type": "code",
      "execution_count": null,
      "metadata": {
        "id": "0V-GuAOGYHCu"
      },
      "outputs": [],
      "source": [
        "dataFrame = dataFrame.drop(dataFrame[dataFrame['Income'] == 'Unknown'].index)"
      ]
    },
    {
      "cell_type": "code",
      "execution_count": null,
      "metadata": {
        "id": "IullfBdOYHCv"
      },
      "outputs": [],
      "source": [
        "dataFrame = dataFrame.reset_index(drop=True)"
      ]
    },
    {
      "cell_type": "code",
      "execution_count": null,
      "metadata": {
        "id": "mdX-sIoIYHCv"
      },
      "outputs": [],
      "source": [
        "mapper = {}\n",
        "for i in dataFrame:\n",
        "    mapper[i] = '_'.join(i.split())"
      ]
    },
    {
      "cell_type": "code",
      "execution_count": null,
      "metadata": {
        "id": "lCp2Bg3mYHCw"
      },
      "outputs": [],
      "source": [
        "dataFrame = dataFrame.rename(columns=mapper)"
      ]
    },
    {
      "cell_type": "code",
      "execution_count": null,
      "metadata": {
        "id": "DLa5yUXuYHCw",
        "outputId": "e3f1b47a-114d-442b-8667-262a7849c063"
      },
      "outputs": [
        {
          "data": {
            "text/plain": [
              "Index(['Diabetes_binary', 'HighBP', 'High_Cholesterol', 'Cholesterol_Check',\n",
              "       'BMI', 'Smoker', 'Stroke', 'HeartDiseaseorAttack', 'Physical_Activity',\n",
              "       'Fruits', 'Veggies', 'Heavy_Alcohol_Consumption', 'Any_Health_Care',\n",
              "       'No_Doctor_because_of_Cost', 'General_Health', 'Mental_Health',\n",
              "       'Physical_Health', 'Difficulty_Walking', 'Sex', 'Age', 'Education',\n",
              "       'Income'],\n",
              "      dtype='object')"
            ]
          },
          "execution_count": 38,
          "metadata": {},
          "output_type": "execute_result"
        }
      ],
      "source": [
        "dataFrame.columns"
      ]
    },
    {
      "cell_type": "code",
      "execution_count": null,
      "metadata": {
        "id": "3RVM8ly_YHCx",
        "outputId": "fb4fc8b4-7a52-4f09-b061-5d209da1d999"
      },
      "outputs": [
        {
          "name": "stdout",
          "output_type": "stream",
          "text": [
            "0.0    35345\n",
            "1.0    35345\n",
            "Name: Diabetes_binary, dtype: int64\n",
            "---------------------------\n",
            "1.0    39831\n",
            "0.0    30859\n",
            "Name: HighBP, dtype: int64\n",
            "---------------------------\n",
            "1.0    37162\n",
            "0.0    33528\n",
            "Name: High_Cholesterol, dtype: int64\n",
            "---------------------------\n",
            "1.0    68942\n",
            "0.0     1748\n",
            "Name: Cholesterol_Check, dtype: int64\n",
            "---------------------------\n",
            "27.0    6326\n",
            "26.0    4975\n",
            "28.0    4583\n",
            "24.0    4392\n",
            "30.0    4343\n",
            "        ... \n",
            "12.0       1\n",
            "74.0       1\n",
            "78.0       1\n",
            "85.0       1\n",
            "80.0       1\n",
            "Name: BMI, Length: 80, dtype: int64\n",
            "---------------------------\n",
            "0.0    37093\n",
            "1.0    33597\n",
            "Name: Smoker, dtype: int64\n",
            "---------------------------\n",
            "0.0    66296\n",
            "1.0     4394\n",
            "Name: Stroke, dtype: int64\n",
            "---------------------------\n",
            "0.0    60241\n",
            "1.0    10449\n",
            "Name: HeartDiseaseorAttack, dtype: int64\n",
            "---------------------------\n",
            "1.0    49697\n",
            "0.0    20993\n",
            "Name: Physical_Activity, dtype: int64\n",
            "---------------------------\n",
            "1.0    43248\n",
            "0.0    27442\n",
            "Name: Fruits, dtype: int64\n",
            "---------------------------\n",
            "1.0    55759\n",
            "0.0    14931\n",
            "Name: Veggies, dtype: int64\n",
            "---------------------------\n",
            "0.0    67670\n",
            "1.0     3020\n",
            "Name: Heavy_Alcohol_Consumption, dtype: int64\n",
            "---------------------------\n",
            "1.0    67506\n",
            "0.0     3184\n",
            "Name: Any_Health_Care, dtype: int64\n",
            "---------------------------\n",
            "0.0    64051\n",
            "1.0     6639\n",
            "Name: No_Doctor_because_of_Cost, dtype: int64\n",
            "---------------------------\n",
            "Medium      23427\n",
            "Good        19871\n",
            "Low         13302\n",
            "High         8282\n",
            "Very Low     5808\n",
            "Name: General_Health, dtype: int64\n",
            "---------------------------\n",
            "0.0     48091\n",
            "30.0     4319\n",
            "2.0      3266\n",
            "5.0      2519\n",
            "1.0      2051\n",
            "3.0      1967\n",
            "10.0     1924\n",
            "15.0     1767\n",
            "20.0     1125\n",
            "4.0       981\n",
            "7.0       825\n",
            "25.0      425\n",
            "14.0      353\n",
            "6.0       288\n",
            "8.0       198\n",
            "12.0      130\n",
            "28.0       99\n",
            "21.0       84\n",
            "29.0       53\n",
            "18.0       42\n",
            "9.0        28\n",
            "16.0       28\n",
            "22.0       22\n",
            "17.0       18\n",
            "26.0       17\n",
            "27.0       17\n",
            "13.0       15\n",
            "23.0       13\n",
            "24.0       10\n",
            "11.0        8\n",
            "19.0        7\n",
            "Name: Mental_Health, dtype: int64\n",
            "---------------------------\n",
            "0.0     39914\n",
            "30.0     7952\n",
            "2.0      4102\n",
            "1.0      2853\n",
            "3.0      2438\n",
            "5.0      2332\n",
            "10.0     1980\n",
            "15.0     1913\n",
            "4.0      1376\n",
            "7.0      1326\n",
            "20.0     1292\n",
            "14.0      802\n",
            "25.0      557\n",
            "6.0       447\n",
            "8.0       276\n",
            "21.0      229\n",
            "28.0      211\n",
            "12.0      205\n",
            "29.0       95\n",
            "9.0        55\n",
            "16.0       50\n",
            "18.0       50\n",
            "17.0       35\n",
            "27.0       34\n",
            "22.0       31\n",
            "23.0       27\n",
            "13.0       26\n",
            "26.0       26\n",
            "24.0       24\n",
            "11.0       22\n",
            "19.0       10\n",
            "Name: Physical_Health, dtype: int64\n",
            "---------------------------\n",
            "0.0    52825\n",
            "1.0    17865\n",
            "Name: Difficulty_Walking, dtype: int64\n",
            "---------------------------\n",
            "female    38384\n",
            "male      32306\n",
            "Name: Sex, dtype: int64\n",
            "---------------------------\n",
            "10.0    10856\n",
            "9.0     10112\n",
            "8.0      8602\n",
            "11.0     8044\n",
            "7.0      6872\n",
            "13.0     5426\n",
            "12.0     5394\n",
            "6.0      4648\n",
            "5.0      3519\n",
            "4.0      2793\n",
            "3.0      2049\n",
            "2.0      1396\n",
            "1.0       979\n",
            "Name: Age, dtype: int64\n",
            "---------------------------\n",
            "Cat6    26019\n",
            "Cat5    20029\n",
            "Cat4    19473\n",
            "Cat3     3447\n",
            "Cat2     1647\n",
            "Cat1       75\n",
            "Name: Education, dtype: int64\n",
            "---------------------------\n",
            "Cat8    20645\n",
            "Cat7    11425\n",
            "Cat6    10287\n",
            "Cat5     8010\n",
            "Cat4     6658\n",
            "Cat3     5556\n",
            "Cat2     4498\n",
            "Cat1     3611\n",
            "Name: Income, dtype: int64\n",
            "---------------------------\n"
          ]
        }
      ],
      "source": [
        "for i in dataFrame:\n",
        "    print(dataFrame[i].value_counts())\n",
        "    print('---------------------------')"
      ]
    },
    {
      "cell_type": "code",
      "execution_count": null,
      "metadata": {
        "id": "gywY3iH6YHCx",
        "outputId": "c13dec1e-5995-474c-f4bc-739db5cdb31d"
      },
      "outputs": [
        {
          "data": {
            "text/plain": [
              "count    70690.000000\n",
              "mean        29.856981\n",
              "std          7.114043\n",
              "min         12.000000\n",
              "25%         25.000000\n",
              "50%         29.000000\n",
              "75%         33.000000\n",
              "max         98.000000\n",
              "Name: BMI, dtype: float64"
            ]
          },
          "execution_count": 40,
          "metadata": {},
          "output_type": "execute_result"
        }
      ],
      "source": [
        "dataFrame['BMI'].describe()"
      ]
    },
    {
      "cell_type": "code",
      "execution_count": null,
      "metadata": {
        "id": "JOojiWjjYHCy",
        "outputId": "eda088a1-522d-45b1-ebe5-9e4bc54a5541"
      },
      "outputs": [
        {
          "data": {
            "text/plain": [
              "count    70690.000000\n",
              "mean         5.810157\n",
              "std         10.061968\n",
              "min          0.000000\n",
              "25%          0.000000\n",
              "50%          0.000000\n",
              "75%          6.000000\n",
              "max         30.000000\n",
              "Name: Physical_Health, dtype: float64"
            ]
          },
          "execution_count": 41,
          "metadata": {},
          "output_type": "execute_result"
        }
      ],
      "source": [
        "dataFrame['Physical_Health'].describe()"
      ]
    },
    {
      "cell_type": "code",
      "execution_count": null,
      "metadata": {
        "id": "VfsmbsV_YHCy",
        "outputId": "eb2fed3b-27f1-4751-a4c1-dcfb68154127"
      },
      "outputs": [
        {
          "data": {
            "text/plain": [
              "count    70690.000000\n",
              "mean         3.751690\n",
              "std          8.155142\n",
              "min          0.000000\n",
              "25%          0.000000\n",
              "50%          0.000000\n",
              "75%          2.000000\n",
              "max         30.000000\n",
              "Name: Mental_Health, dtype: float64"
            ]
          },
          "execution_count": 42,
          "metadata": {},
          "output_type": "execute_result"
        }
      ],
      "source": [
        "dataFrame['Mental_Health'].describe()"
      ]
    },
    {
      "cell_type": "code",
      "execution_count": null,
      "metadata": {
        "id": "RTOuTH2_YHC0"
      },
      "outputs": [],
      "source": [
        "def splitter(splits):\n",
        "    def func(x):\n",
        "        for i, s in enumerate(splits):\n",
        "            if x <= s:\n",
        "                return i\n",
        "    return func"
      ]
    },
    {
      "cell_type": "code",
      "execution_count": null,
      "metadata": {
        "id": "iTvDUvUEYHC0"
      },
      "outputs": [],
      "source": [
        "dataFrame['BMI'] = dataFrame['BMI'].apply(splitter([i for i in range(10, 110, 10)]))"
      ]
    },
    {
      "cell_type": "code",
      "execution_count": null,
      "metadata": {
        "id": "Xh9U8r1kYHC1",
        "outputId": "338aed7f-8539-4d29-92da-1bec8c2fe8e5"
      },
      "outputs": [
        {
          "data": {
            "text/plain": [
              "2    40991\n",
              "3    22038\n",
              "4     4138\n",
              "1     2600\n",
              "5      663\n",
              "6      111\n",
              "7       79\n",
              "8       53\n",
              "9       17\n",
              "Name: BMI, dtype: int64"
            ]
          },
          "execution_count": 45,
          "metadata": {},
          "output_type": "execute_result"
        }
      ],
      "source": [
        "dataFrame['BMI'].value_counts()"
      ]
    },
    {
      "cell_type": "code",
      "execution_count": null,
      "metadata": {
        "id": "KUHThXc7YHC2",
        "outputId": "03b637b2-59df-436d-83f2-3d677dcc01a2"
      },
      "outputs": [
        {
          "data": {
            "text/plain": [
              "count    70690.000000\n",
              "mean         8.584114\n",
              "std          2.852161\n",
              "min          1.000000\n",
              "25%          7.000000\n",
              "50%          9.000000\n",
              "75%         11.000000\n",
              "max         13.000000\n",
              "Name: Age, dtype: float64"
            ]
          },
          "execution_count": 46,
          "metadata": {},
          "output_type": "execute_result"
        }
      ],
      "source": [
        "dataFrame[\"Age\"].describe()"
      ]
    },
    {
      "cell_type": "code",
      "execution_count": null,
      "metadata": {
        "id": "yG41cO5IYHC4"
      },
      "outputs": [],
      "source": [
        "def scaler(minimum, maximum):\n",
        "    def func(x):\n",
        "        return (x - minimum) / (maximum - minimum)\n",
        "    return func"
      ]
    },
    {
      "cell_type": "code",
      "execution_count": null,
      "metadata": {
        "id": "ub9H3GPMYHC5"
      },
      "outputs": [],
      "source": [
        "dataFrame['BMI'] = dataFrame['BMI'].apply(scaler(1, 9))\n",
        "dataFrame['Physical_Health'] = dataFrame['Physical_Health'].apply(scaler(0, 30))\n",
        "dataFrame['Mental_Health'] = dataFrame['Mental_Health'].apply(scaler(0, 30))\n",
        "dataFrame['Age'] = dataFrame['Age'].apply(scaler(1, 13))"
      ]
    },
    {
      "cell_type": "code",
      "execution_count": null,
      "metadata": {
        "id": "nW3PM9nlYHC6",
        "outputId": "7084a33c-c69b-4a2b-b7bd-b7774a165110"
      },
      "outputs": [
        {
          "data": {
            "text/html": [
              "<div>\n",
              "<style scoped>\n",
              "    .dataframe tbody tr th:only-of-type {\n",
              "        vertical-align: middle;\n",
              "    }\n",
              "\n",
              "    .dataframe tbody tr th {\n",
              "        vertical-align: top;\n",
              "    }\n",
              "\n",
              "    .dataframe thead th {\n",
              "        text-align: right;\n",
              "    }\n",
              "</style>\n",
              "<table border=\"1\" class=\"dataframe\">\n",
              "  <thead>\n",
              "    <tr style=\"text-align: right;\">\n",
              "      <th></th>\n",
              "      <th>Diabetes_binary</th>\n",
              "      <th>HighBP</th>\n",
              "      <th>High_Cholesterol</th>\n",
              "      <th>Cholesterol_Check</th>\n",
              "      <th>BMI</th>\n",
              "      <th>Smoker</th>\n",
              "      <th>Stroke</th>\n",
              "      <th>HeartDiseaseorAttack</th>\n",
              "      <th>Physical_Activity</th>\n",
              "      <th>Fruits</th>\n",
              "      <th>...</th>\n",
              "      <th>Any_Health_Care</th>\n",
              "      <th>No_Doctor_because_of_Cost</th>\n",
              "      <th>General_Health</th>\n",
              "      <th>Mental_Health</th>\n",
              "      <th>Physical_Health</th>\n",
              "      <th>Difficulty_Walking</th>\n",
              "      <th>Sex</th>\n",
              "      <th>Age</th>\n",
              "      <th>Education</th>\n",
              "      <th>Income</th>\n",
              "    </tr>\n",
              "  </thead>\n",
              "  <tbody>\n",
              "    <tr>\n",
              "      <th>0</th>\n",
              "      <td>0.0</td>\n",
              "      <td>1.0</td>\n",
              "      <td>0.0</td>\n",
              "      <td>1.0</td>\n",
              "      <td>0.125</td>\n",
              "      <td>0.0</td>\n",
              "      <td>0.0</td>\n",
              "      <td>0.0</td>\n",
              "      <td>1.0</td>\n",
              "      <td>0.0</td>\n",
              "      <td>...</td>\n",
              "      <td>1.0</td>\n",
              "      <td>0.0</td>\n",
              "      <td>Medium</td>\n",
              "      <td>0.166667</td>\n",
              "      <td>1.000000</td>\n",
              "      <td>0.0</td>\n",
              "      <td>male</td>\n",
              "      <td>0.250000</td>\n",
              "      <td>Cat6</td>\n",
              "      <td>Cat8</td>\n",
              "    </tr>\n",
              "    <tr>\n",
              "      <th>1</th>\n",
              "      <td>0.0</td>\n",
              "      <td>1.0</td>\n",
              "      <td>1.0</td>\n",
              "      <td>1.0</td>\n",
              "      <td>0.125</td>\n",
              "      <td>1.0</td>\n",
              "      <td>1.0</td>\n",
              "      <td>0.0</td>\n",
              "      <td>0.0</td>\n",
              "      <td>1.0</td>\n",
              "      <td>...</td>\n",
              "      <td>1.0</td>\n",
              "      <td>0.0</td>\n",
              "      <td>Medium</td>\n",
              "      <td>0.000000</td>\n",
              "      <td>0.000000</td>\n",
              "      <td>0.0</td>\n",
              "      <td>male</td>\n",
              "      <td>0.916667</td>\n",
              "      <td>Cat6</td>\n",
              "      <td>Cat8</td>\n",
              "    </tr>\n",
              "    <tr>\n",
              "      <th>2</th>\n",
              "      <td>0.0</td>\n",
              "      <td>0.0</td>\n",
              "      <td>0.0</td>\n",
              "      <td>1.0</td>\n",
              "      <td>0.125</td>\n",
              "      <td>0.0</td>\n",
              "      <td>0.0</td>\n",
              "      <td>0.0</td>\n",
              "      <td>1.0</td>\n",
              "      <td>1.0</td>\n",
              "      <td>...</td>\n",
              "      <td>1.0</td>\n",
              "      <td>0.0</td>\n",
              "      <td>High</td>\n",
              "      <td>0.000000</td>\n",
              "      <td>0.333333</td>\n",
              "      <td>0.0</td>\n",
              "      <td>male</td>\n",
              "      <td>1.000000</td>\n",
              "      <td>Cat6</td>\n",
              "      <td>Cat8</td>\n",
              "    </tr>\n",
              "    <tr>\n",
              "      <th>3</th>\n",
              "      <td>0.0</td>\n",
              "      <td>1.0</td>\n",
              "      <td>1.0</td>\n",
              "      <td>1.0</td>\n",
              "      <td>0.125</td>\n",
              "      <td>1.0</td>\n",
              "      <td>0.0</td>\n",
              "      <td>0.0</td>\n",
              "      <td>1.0</td>\n",
              "      <td>1.0</td>\n",
              "      <td>...</td>\n",
              "      <td>1.0</td>\n",
              "      <td>0.0</td>\n",
              "      <td>Medium</td>\n",
              "      <td>0.000000</td>\n",
              "      <td>0.100000</td>\n",
              "      <td>0.0</td>\n",
              "      <td>male</td>\n",
              "      <td>0.833333</td>\n",
              "      <td>Cat6</td>\n",
              "      <td>Cat8</td>\n",
              "    </tr>\n",
              "    <tr>\n",
              "      <th>4</th>\n",
              "      <td>0.0</td>\n",
              "      <td>0.0</td>\n",
              "      <td>0.0</td>\n",
              "      <td>1.0</td>\n",
              "      <td>0.125</td>\n",
              "      <td>1.0</td>\n",
              "      <td>0.0</td>\n",
              "      <td>0.0</td>\n",
              "      <td>1.0</td>\n",
              "      <td>1.0</td>\n",
              "      <td>...</td>\n",
              "      <td>1.0</td>\n",
              "      <td>0.0</td>\n",
              "      <td>Good</td>\n",
              "      <td>0.000000</td>\n",
              "      <td>0.000000</td>\n",
              "      <td>0.0</td>\n",
              "      <td>female</td>\n",
              "      <td>0.583333</td>\n",
              "      <td>Cat5</td>\n",
              "      <td>Cat8</td>\n",
              "    </tr>\n",
              "    <tr>\n",
              "      <th>...</th>\n",
              "      <td>...</td>\n",
              "      <td>...</td>\n",
              "      <td>...</td>\n",
              "      <td>...</td>\n",
              "      <td>...</td>\n",
              "      <td>...</td>\n",
              "      <td>...</td>\n",
              "      <td>...</td>\n",
              "      <td>...</td>\n",
              "      <td>...</td>\n",
              "      <td>...</td>\n",
              "      <td>...</td>\n",
              "      <td>...</td>\n",
              "      <td>...</td>\n",
              "      <td>...</td>\n",
              "      <td>...</td>\n",
              "      <td>...</td>\n",
              "      <td>...</td>\n",
              "      <td>...</td>\n",
              "      <td>...</td>\n",
              "      <td>...</td>\n",
              "    </tr>\n",
              "    <tr>\n",
              "      <th>70685</th>\n",
              "      <td>1.0</td>\n",
              "      <td>0.0</td>\n",
              "      <td>1.0</td>\n",
              "      <td>1.0</td>\n",
              "      <td>0.250</td>\n",
              "      <td>0.0</td>\n",
              "      <td>0.0</td>\n",
              "      <td>0.0</td>\n",
              "      <td>0.0</td>\n",
              "      <td>0.0</td>\n",
              "      <td>...</td>\n",
              "      <td>1.0</td>\n",
              "      <td>0.0</td>\n",
              "      <td>Low</td>\n",
              "      <td>0.000000</td>\n",
              "      <td>0.000000</td>\n",
              "      <td>0.0</td>\n",
              "      <td>female</td>\n",
              "      <td>0.416667</td>\n",
              "      <td>Cat4</td>\n",
              "      <td>Cat1</td>\n",
              "    </tr>\n",
              "    <tr>\n",
              "      <th>70686</th>\n",
              "      <td>1.0</td>\n",
              "      <td>0.0</td>\n",
              "      <td>1.0</td>\n",
              "      <td>1.0</td>\n",
              "      <td>0.125</td>\n",
              "      <td>1.0</td>\n",
              "      <td>0.0</td>\n",
              "      <td>1.0</td>\n",
              "      <td>0.0</td>\n",
              "      <td>1.0</td>\n",
              "      <td>...</td>\n",
              "      <td>1.0</td>\n",
              "      <td>0.0</td>\n",
              "      <td>Good</td>\n",
              "      <td>0.000000</td>\n",
              "      <td>0.000000</td>\n",
              "      <td>1.0</td>\n",
              "      <td>male</td>\n",
              "      <td>0.750000</td>\n",
              "      <td>Cat3</td>\n",
              "      <td>Cat6</td>\n",
              "    </tr>\n",
              "    <tr>\n",
              "      <th>70687</th>\n",
              "      <td>1.0</td>\n",
              "      <td>1.0</td>\n",
              "      <td>1.0</td>\n",
              "      <td>1.0</td>\n",
              "      <td>0.125</td>\n",
              "      <td>0.0</td>\n",
              "      <td>0.0</td>\n",
              "      <td>1.0</td>\n",
              "      <td>0.0</td>\n",
              "      <td>1.0</td>\n",
              "      <td>...</td>\n",
              "      <td>1.0</td>\n",
              "      <td>0.0</td>\n",
              "      <td>Very Low</td>\n",
              "      <td>0.500000</td>\n",
              "      <td>0.000000</td>\n",
              "      <td>1.0</td>\n",
              "      <td>female</td>\n",
              "      <td>1.000000</td>\n",
              "      <td>Cat6</td>\n",
              "      <td>Cat4</td>\n",
              "    </tr>\n",
              "    <tr>\n",
              "      <th>70688</th>\n",
              "      <td>1.0</td>\n",
              "      <td>1.0</td>\n",
              "      <td>1.0</td>\n",
              "      <td>1.0</td>\n",
              "      <td>0.000</td>\n",
              "      <td>0.0</td>\n",
              "      <td>0.0</td>\n",
              "      <td>0.0</td>\n",
              "      <td>0.0</td>\n",
              "      <td>0.0</td>\n",
              "      <td>...</td>\n",
              "      <td>1.0</td>\n",
              "      <td>0.0</td>\n",
              "      <td>Low</td>\n",
              "      <td>0.000000</td>\n",
              "      <td>0.000000</td>\n",
              "      <td>1.0</td>\n",
              "      <td>female</td>\n",
              "      <td>0.833333</td>\n",
              "      <td>Cat2</td>\n",
              "      <td>Cat4</td>\n",
              "    </tr>\n",
              "    <tr>\n",
              "      <th>70689</th>\n",
              "      <td>1.0</td>\n",
              "      <td>1.0</td>\n",
              "      <td>1.0</td>\n",
              "      <td>1.0</td>\n",
              "      <td>0.125</td>\n",
              "      <td>0.0</td>\n",
              "      <td>0.0</td>\n",
              "      <td>1.0</td>\n",
              "      <td>1.0</td>\n",
              "      <td>1.0</td>\n",
              "      <td>...</td>\n",
              "      <td>1.0</td>\n",
              "      <td>0.0</td>\n",
              "      <td>Good</td>\n",
              "      <td>0.000000</td>\n",
              "      <td>0.000000</td>\n",
              "      <td>0.0</td>\n",
              "      <td>female</td>\n",
              "      <td>0.666667</td>\n",
              "      <td>Cat6</td>\n",
              "      <td>Cat2</td>\n",
              "    </tr>\n",
              "  </tbody>\n",
              "</table>\n",
              "<p>70690 rows × 22 columns</p>\n",
              "</div>"
            ],
            "text/plain": [
              "       Diabetes_binary  HighBP  High_Cholesterol  Cholesterol_Check    BMI  \\\n",
              "0                  0.0     1.0               0.0                1.0  0.125   \n",
              "1                  0.0     1.0               1.0                1.0  0.125   \n",
              "2                  0.0     0.0               0.0                1.0  0.125   \n",
              "3                  0.0     1.0               1.0                1.0  0.125   \n",
              "4                  0.0     0.0               0.0                1.0  0.125   \n",
              "...                ...     ...               ...                ...    ...   \n",
              "70685              1.0     0.0               1.0                1.0  0.250   \n",
              "70686              1.0     0.0               1.0                1.0  0.125   \n",
              "70687              1.0     1.0               1.0                1.0  0.125   \n",
              "70688              1.0     1.0               1.0                1.0  0.000   \n",
              "70689              1.0     1.0               1.0                1.0  0.125   \n",
              "\n",
              "       Smoker  Stroke  HeartDiseaseorAttack  Physical_Activity  Fruits  ...  \\\n",
              "0         0.0     0.0                   0.0                1.0     0.0  ...   \n",
              "1         1.0     1.0                   0.0                0.0     1.0  ...   \n",
              "2         0.0     0.0                   0.0                1.0     1.0  ...   \n",
              "3         1.0     0.0                   0.0                1.0     1.0  ...   \n",
              "4         1.0     0.0                   0.0                1.0     1.0  ...   \n",
              "...       ...     ...                   ...                ...     ...  ...   \n",
              "70685     0.0     0.0                   0.0                0.0     0.0  ...   \n",
              "70686     1.0     0.0                   1.0                0.0     1.0  ...   \n",
              "70687     0.0     0.0                   1.0                0.0     1.0  ...   \n",
              "70688     0.0     0.0                   0.0                0.0     0.0  ...   \n",
              "70689     0.0     0.0                   1.0                1.0     1.0  ...   \n",
              "\n",
              "       Any_Health_Care  No_Doctor_because_of_Cost  General_Health  \\\n",
              "0                  1.0                        0.0          Medium   \n",
              "1                  1.0                        0.0          Medium   \n",
              "2                  1.0                        0.0            High   \n",
              "3                  1.0                        0.0          Medium   \n",
              "4                  1.0                        0.0            Good   \n",
              "...                ...                        ...             ...   \n",
              "70685              1.0                        0.0             Low   \n",
              "70686              1.0                        0.0            Good   \n",
              "70687              1.0                        0.0        Very Low   \n",
              "70688              1.0                        0.0             Low   \n",
              "70689              1.0                        0.0            Good   \n",
              "\n",
              "       Mental_Health Physical_Health  Difficulty_Walking     Sex       Age  \\\n",
              "0           0.166667        1.000000                 0.0    male  0.250000   \n",
              "1           0.000000        0.000000                 0.0    male  0.916667   \n",
              "2           0.000000        0.333333                 0.0    male  1.000000   \n",
              "3           0.000000        0.100000                 0.0    male  0.833333   \n",
              "4           0.000000        0.000000                 0.0  female  0.583333   \n",
              "...              ...             ...                 ...     ...       ...   \n",
              "70685       0.000000        0.000000                 0.0  female  0.416667   \n",
              "70686       0.000000        0.000000                 1.0    male  0.750000   \n",
              "70687       0.500000        0.000000                 1.0  female  1.000000   \n",
              "70688       0.000000        0.000000                 1.0  female  0.833333   \n",
              "70689       0.000000        0.000000                 0.0  female  0.666667   \n",
              "\n",
              "      Education  Income  \n",
              "0          Cat6    Cat8  \n",
              "1          Cat6    Cat8  \n",
              "2          Cat6    Cat8  \n",
              "3          Cat6    Cat8  \n",
              "4          Cat5    Cat8  \n",
              "...         ...     ...  \n",
              "70685      Cat4    Cat1  \n",
              "70686      Cat3    Cat6  \n",
              "70687      Cat6    Cat4  \n",
              "70688      Cat2    Cat4  \n",
              "70689      Cat6    Cat2  \n",
              "\n",
              "[70690 rows x 22 columns]"
            ]
          },
          "execution_count": 49,
          "metadata": {},
          "output_type": "execute_result"
        }
      ],
      "source": [
        "dataFrame"
      ]
    },
    {
      "cell_type": "code",
      "execution_count": null,
      "metadata": {
        "id": "bDzDwyPVYHC6"
      },
      "outputs": [],
      "source": [
        "from sklearn.preprocessing import OneHotEncoder"
      ]
    },
    {
      "cell_type": "code",
      "execution_count": null,
      "metadata": {
        "id": "UxuoPEFXYHC7"
      },
      "outputs": [],
      "source": [
        "encoder = OneHotEncoder()"
      ]
    },
    {
      "cell_type": "code",
      "execution_count": null,
      "metadata": {
        "id": "mLhB6czdYHC7"
      },
      "outputs": [],
      "source": [
        "encoded_General_Health = pd.DataFrame(encoder.fit_transform(dataFrame[['General_Health']]).toarray())"
      ]
    },
    {
      "cell_type": "code",
      "execution_count": null,
      "metadata": {
        "id": "LNA6tXwHYHC8",
        "outputId": "b29d86ec-5ba0-4e4a-d820-34c54980c4a3"
      },
      "outputs": [
        {
          "data": {
            "text/plain": [
              "0    1    2    3    4  \n",
              "0.0  0.0  0.0  1.0  0.0    23427\n",
              "1.0  0.0  0.0  0.0  0.0    19871\n",
              "0.0  0.0  1.0  0.0  0.0    13302\n",
              "     1.0  0.0  0.0  0.0     8282\n",
              "     0.0  0.0  0.0  1.0     5808\n",
              "dtype: int64"
            ]
          },
          "execution_count": 53,
          "metadata": {},
          "output_type": "execute_result"
        }
      ],
      "source": [
        "encoded_General_Health.value_counts()"
      ]
    },
    {
      "cell_type": "code",
      "execution_count": null,
      "metadata": {
        "id": "5XqwdRjDYHC8",
        "outputId": "f1cf0c01-5eb2-4b8d-db64-4a45b630beb3"
      },
      "outputs": [
        {
          "data": {
            "text/plain": [
              "General_Health\n",
              "Medium            23427\n",
              "Good              19871\n",
              "Low               13302\n",
              "High               8282\n",
              "Very Low           5808\n",
              "dtype: int64"
            ]
          },
          "execution_count": 54,
          "metadata": {},
          "output_type": "execute_result"
        }
      ],
      "source": [
        "dataFrame[['General_Health']].value_counts()"
      ]
    },
    {
      "cell_type": "code",
      "execution_count": null,
      "metadata": {
        "id": "7mANcDMvYHC9"
      },
      "outputs": [],
      "source": [
        "encoded_General_Health.columns = ['General_Health_Good', 'General_Health_High', 'General_Health_Low', 'General_Health_Medium', 'General_Health_Very_Low']"
      ]
    },
    {
      "cell_type": "code",
      "execution_count": null,
      "metadata": {
        "id": "OPmqRL3TYHC9",
        "outputId": "ec81f095-8f8f-4466-bedc-4fffc4a4bad8"
      },
      "outputs": [
        {
          "data": {
            "text/plain": [
              "General_Health_Good  General_Health_High  General_Health_Low  General_Health_Medium  General_Health_Very_Low\n",
              "0.0                  0.0                  0.0                 1.0                    0.0                        23427\n",
              "1.0                  0.0                  0.0                 0.0                    0.0                        19871\n",
              "0.0                  0.0                  1.0                 0.0                    0.0                        13302\n",
              "                     1.0                  0.0                 0.0                    0.0                         8282\n",
              "                     0.0                  0.0                 0.0                    1.0                         5808\n",
              "dtype: int64"
            ]
          },
          "execution_count": 56,
          "metadata": {},
          "output_type": "execute_result"
        }
      ],
      "source": [
        "encoded_General_Health.value_counts()"
      ]
    },
    {
      "cell_type": "code",
      "execution_count": null,
      "metadata": {
        "id": "_J0PClgUYHC9"
      },
      "outputs": [],
      "source": [
        "encoded_Sex = pd.DataFrame(encoder.fit_transform(dataFrame[['Sex']]).toarray())"
      ]
    },
    {
      "cell_type": "code",
      "execution_count": null,
      "metadata": {
        "id": "4_H-7hYaYHC-",
        "outputId": "9052af78-ad14-4c18-f293-9532f34f8247"
      },
      "outputs": [
        {
          "data": {
            "text/plain": [
              "0    1  \n",
              "1.0  0.0    38384\n",
              "0.0  1.0    32306\n",
              "dtype: int64"
            ]
          },
          "execution_count": 58,
          "metadata": {},
          "output_type": "execute_result"
        }
      ],
      "source": [
        "encoded_Sex.value_counts()"
      ]
    },
    {
      "cell_type": "code",
      "execution_count": null,
      "metadata": {
        "id": "HMyvQGPQYHC-",
        "outputId": "45f08d67-6e11-44da-9170-e017df7f9099"
      },
      "outputs": [
        {
          "data": {
            "text/plain": [
              "Sex   \n",
              "female    38384\n",
              "male      32306\n",
              "dtype: int64"
            ]
          },
          "execution_count": 59,
          "metadata": {},
          "output_type": "execute_result"
        }
      ],
      "source": [
        "dataFrame[['Sex']].value_counts()"
      ]
    },
    {
      "cell_type": "code",
      "execution_count": null,
      "metadata": {
        "id": "RNS0ugzuYHC_"
      },
      "outputs": [],
      "source": [
        "encoded_Sex.columns = ['Female', 'Male']"
      ]
    },
    {
      "cell_type": "code",
      "execution_count": null,
      "metadata": {
        "id": "hVV_hLRRYHC_",
        "outputId": "0e7f3ea6-c387-46ce-9e6f-bcf9350a02b5"
      },
      "outputs": [
        {
          "data": {
            "text/plain": [
              "Female  Male\n",
              "1.0     0.0     38384\n",
              "0.0     1.0     32306\n",
              "dtype: int64"
            ]
          },
          "execution_count": 61,
          "metadata": {},
          "output_type": "execute_result"
        }
      ],
      "source": [
        "encoded_Sex.value_counts()"
      ]
    },
    {
      "cell_type": "code",
      "execution_count": null,
      "metadata": {
        "id": "jGDqaMGZYHC_"
      },
      "outputs": [],
      "source": [
        "encoded_education = pd.DataFrame(encoder.fit_transform(dataFrame[['Education']]).toarray())"
      ]
    },
    {
      "cell_type": "code",
      "execution_count": null,
      "metadata": {
        "id": "Xiu772V1YHDA",
        "outputId": "1bd4dade-aa03-433a-c96f-10fbf691a793"
      },
      "outputs": [
        {
          "data": {
            "text/plain": [
              "0    1    2    3    4    5  \n",
              "0.0  0.0  0.0  0.0  0.0  1.0    26019\n",
              "                    1.0  0.0    20029\n",
              "               1.0  0.0  0.0    19473\n",
              "          1.0  0.0  0.0  0.0     3447\n",
              "     1.0  0.0  0.0  0.0  0.0     1647\n",
              "1.0  0.0  0.0  0.0  0.0  0.0       75\n",
              "dtype: int64"
            ]
          },
          "execution_count": 63,
          "metadata": {},
          "output_type": "execute_result"
        }
      ],
      "source": [
        "encoded_education.value_counts()"
      ]
    },
    {
      "cell_type": "code",
      "execution_count": null,
      "metadata": {
        "id": "3pQvvxDgYHDA",
        "outputId": "7ea5e1e9-f7c7-43a5-a060-85516ad50782"
      },
      "outputs": [
        {
          "data": {
            "text/plain": [
              "Education\n",
              "Cat6         26019\n",
              "Cat5         20029\n",
              "Cat4         19473\n",
              "Cat3          3447\n",
              "Cat2          1647\n",
              "Cat1            75\n",
              "dtype: int64"
            ]
          },
          "execution_count": 64,
          "metadata": {},
          "output_type": "execute_result"
        }
      ],
      "source": [
        "dataFrame[['Education']].value_counts()"
      ]
    },
    {
      "cell_type": "code",
      "execution_count": null,
      "metadata": {
        "id": "CZZOAbFxYHDB"
      },
      "outputs": [],
      "source": [
        "encoded_education.columns = ['Education_Cat' + str(i) for i in range(1, 7)]"
      ]
    },
    {
      "cell_type": "code",
      "execution_count": null,
      "metadata": {
        "id": "5xsbTpd2YHDC",
        "outputId": "311620f5-e06a-4b4b-ddd1-0bb91eb17f48"
      },
      "outputs": [
        {
          "data": {
            "text/plain": [
              "Education_Cat1  Education_Cat2  Education_Cat3  Education_Cat4  Education_Cat5  Education_Cat6\n",
              "0.0             0.0             0.0             0.0             0.0             1.0               26019\n",
              "                                                                1.0             0.0               20029\n",
              "                                                1.0             0.0             0.0               19473\n",
              "                                1.0             0.0             0.0             0.0                3447\n",
              "                1.0             0.0             0.0             0.0             0.0                1647\n",
              "1.0             0.0             0.0             0.0             0.0             0.0                  75\n",
              "dtype: int64"
            ]
          },
          "execution_count": 66,
          "metadata": {},
          "output_type": "execute_result"
        }
      ],
      "source": [
        "encoded_education.value_counts()"
      ]
    },
    {
      "cell_type": "code",
      "execution_count": null,
      "metadata": {
        "id": "x3TYirahYHDC"
      },
      "outputs": [],
      "source": [
        "encoded_income = pd.DataFrame(encoder.fit_transform(dataFrame[['Income']]).toarray())"
      ]
    },
    {
      "cell_type": "code",
      "execution_count": null,
      "metadata": {
        "id": "9xIH7OHdYHDD",
        "outputId": "612d6c89-7209-4a38-b57e-d371fc7f6c9e"
      },
      "outputs": [
        {
          "data": {
            "text/plain": [
              "Income\n",
              "Cat8      20645\n",
              "Cat7      11425\n",
              "Cat6      10287\n",
              "Cat5       8010\n",
              "Cat4       6658\n",
              "Cat3       5556\n",
              "Cat2       4498\n",
              "Cat1       3611\n",
              "dtype: int64"
            ]
          },
          "execution_count": 68,
          "metadata": {},
          "output_type": "execute_result"
        }
      ],
      "source": [
        "dataFrame[['Income']].value_counts()"
      ]
    },
    {
      "cell_type": "code",
      "execution_count": null,
      "metadata": {
        "id": "BJ0D5hS4YHDE",
        "outputId": "59dd867d-84ea-4f7a-dfbc-4cc61b113c73"
      },
      "outputs": [
        {
          "data": {
            "text/plain": [
              "0    1    2    3    4    5    6    7  \n",
              "0.0  0.0  0.0  0.0  0.0  0.0  0.0  1.0    20645\n",
              "                              1.0  0.0    11425\n",
              "                         1.0  0.0  0.0    10287\n",
              "                    1.0  0.0  0.0  0.0     8010\n",
              "               1.0  0.0  0.0  0.0  0.0     6658\n",
              "          1.0  0.0  0.0  0.0  0.0  0.0     5556\n",
              "     1.0  0.0  0.0  0.0  0.0  0.0  0.0     4498\n",
              "1.0  0.0  0.0  0.0  0.0  0.0  0.0  0.0     3611\n",
              "dtype: int64"
            ]
          },
          "execution_count": 69,
          "metadata": {},
          "output_type": "execute_result"
        }
      ],
      "source": [
        "encoded_income.value_counts()"
      ]
    },
    {
      "cell_type": "code",
      "execution_count": null,
      "metadata": {
        "id": "9Wze-6aqYHDE"
      },
      "outputs": [],
      "source": [
        "encoded_income.columns = ['Income_Cat' + str(i) for i in range(1, 9)]"
      ]
    },
    {
      "cell_type": "code",
      "execution_count": null,
      "metadata": {
        "id": "CFFfsMIsYHDF",
        "outputId": "551936a4-46af-4eed-ccc9-83ff46a6b745"
      },
      "outputs": [
        {
          "data": {
            "text/plain": [
              "Income_Cat1  Income_Cat2  Income_Cat3  Income_Cat4  Income_Cat5  Income_Cat6  Income_Cat7  Income_Cat8\n",
              "0.0          0.0          0.0          0.0          0.0          0.0          0.0          1.0            20645\n",
              "                                                                              1.0          0.0            11425\n",
              "                                                                 1.0          0.0          0.0            10287\n",
              "                                                    1.0          0.0          0.0          0.0             8010\n",
              "                                       1.0          0.0          0.0          0.0          0.0             6658\n",
              "                          1.0          0.0          0.0          0.0          0.0          0.0             5556\n",
              "             1.0          0.0          0.0          0.0          0.0          0.0          0.0             4498\n",
              "1.0          0.0          0.0          0.0          0.0          0.0          0.0          0.0             3611\n",
              "dtype: int64"
            ]
          },
          "execution_count": 71,
          "metadata": {},
          "output_type": "execute_result"
        }
      ],
      "source": [
        "encoded_income.value_counts()"
      ]
    },
    {
      "cell_type": "code",
      "execution_count": null,
      "metadata": {
        "id": "fE9H_JDnYHDG"
      },
      "outputs": [],
      "source": [
        "one_hot_encoded_features = encoded_General_Health.join(encoded_Sex.join(encoded_education.join(encoded_income)))"
      ]
    },
    {
      "cell_type": "code",
      "execution_count": null,
      "metadata": {
        "id": "5G5aiKgDYHDG"
      },
      "outputs": [],
      "source": [
        "dataFrame_final = dataFrame.join(one_hot_encoded_features)\n",
        "\n",
        "dataFrame_final = dataFrame_final.drop(['General_Health', 'Sex', 'Income', 'Education'], axis=1)"
      ]
    },
    {
      "cell_type": "code",
      "execution_count": null,
      "metadata": {
        "id": "v_UwUxD-YHDH",
        "outputId": "20e753ae-90c7-49ec-d06f-d049ecb64640"
      },
      "outputs": [
        {
          "data": {
            "text/plain": [
              "Index(['Diabetes_binary', 'HighBP', 'High_Cholesterol', 'Cholesterol_Check',\n",
              "       'BMI', 'Smoker', 'Stroke', 'HeartDiseaseorAttack', 'Physical_Activity',\n",
              "       'Fruits', 'Veggies', 'Heavy_Alcohol_Consumption', 'Any_Health_Care',\n",
              "       'No_Doctor_because_of_Cost', 'Mental_Health', 'Physical_Health',\n",
              "       'Difficulty_Walking', 'Age', 'General_Health_Good',\n",
              "       'General_Health_High', 'General_Health_Low', 'General_Health_Medium',\n",
              "       'General_Health_Very_Low', 'Female', 'Male', 'Education_Cat1',\n",
              "       'Education_Cat2', 'Education_Cat3', 'Education_Cat4', 'Education_Cat5',\n",
              "       'Education_Cat6', 'Income_Cat1', 'Income_Cat2', 'Income_Cat3',\n",
              "       'Income_Cat4', 'Income_Cat5', 'Income_Cat6', 'Income_Cat7',\n",
              "       'Income_Cat8'],\n",
              "      dtype='object')"
            ]
          },
          "execution_count": 74,
          "metadata": {},
          "output_type": "execute_result"
        }
      ],
      "source": [
        "dataFrame_final.columns"
      ]
    },
    {
      "cell_type": "code",
      "execution_count": null,
      "metadata": {
        "id": "nSHsPTAdYHDJ"
      },
      "outputs": [],
      "source": [
        "labels = dataFrame_final[['Diabetes_binary']]\n",
        "features = dataFrame_final.drop('Diabetes_binary', axis=1)"
      ]
    },
    {
      "cell_type": "code",
      "execution_count": null,
      "metadata": {
        "id": "mgiq2pwAYHDK",
        "outputId": "2a0a58dc-80c2-45ad-c708-1a7cbe5cd8bb"
      },
      "outputs": [
        {
          "data": {
            "text/html": [
              "<div>\n",
              "<style scoped>\n",
              "    .dataframe tbody tr th:only-of-type {\n",
              "        vertical-align: middle;\n",
              "    }\n",
              "\n",
              "    .dataframe tbody tr th {\n",
              "        vertical-align: top;\n",
              "    }\n",
              "\n",
              "    .dataframe thead th {\n",
              "        text-align: right;\n",
              "    }\n",
              "</style>\n",
              "<table border=\"1\" class=\"dataframe\">\n",
              "  <thead>\n",
              "    <tr style=\"text-align: right;\">\n",
              "      <th></th>\n",
              "      <th>Diabetes_binary</th>\n",
              "    </tr>\n",
              "  </thead>\n",
              "  <tbody>\n",
              "    <tr>\n",
              "      <th>0</th>\n",
              "      <td>0.0</td>\n",
              "    </tr>\n",
              "    <tr>\n",
              "      <th>1</th>\n",
              "      <td>0.0</td>\n",
              "    </tr>\n",
              "    <tr>\n",
              "      <th>2</th>\n",
              "      <td>0.0</td>\n",
              "    </tr>\n",
              "    <tr>\n",
              "      <th>3</th>\n",
              "      <td>0.0</td>\n",
              "    </tr>\n",
              "    <tr>\n",
              "      <th>4</th>\n",
              "      <td>0.0</td>\n",
              "    </tr>\n",
              "    <tr>\n",
              "      <th>...</th>\n",
              "      <td>...</td>\n",
              "    </tr>\n",
              "    <tr>\n",
              "      <th>70685</th>\n",
              "      <td>1.0</td>\n",
              "    </tr>\n",
              "    <tr>\n",
              "      <th>70686</th>\n",
              "      <td>1.0</td>\n",
              "    </tr>\n",
              "    <tr>\n",
              "      <th>70687</th>\n",
              "      <td>1.0</td>\n",
              "    </tr>\n",
              "    <tr>\n",
              "      <th>70688</th>\n",
              "      <td>1.0</td>\n",
              "    </tr>\n",
              "    <tr>\n",
              "      <th>70689</th>\n",
              "      <td>1.0</td>\n",
              "    </tr>\n",
              "  </tbody>\n",
              "</table>\n",
              "<p>70690 rows × 1 columns</p>\n",
              "</div>"
            ],
            "text/plain": [
              "       Diabetes_binary\n",
              "0                  0.0\n",
              "1                  0.0\n",
              "2                  0.0\n",
              "3                  0.0\n",
              "4                  0.0\n",
              "...                ...\n",
              "70685              1.0\n",
              "70686              1.0\n",
              "70687              1.0\n",
              "70688              1.0\n",
              "70689              1.0\n",
              "\n",
              "[70690 rows x 1 columns]"
            ]
          },
          "execution_count": 76,
          "metadata": {},
          "output_type": "execute_result"
        }
      ],
      "source": [
        "labels"
      ]
    },
    {
      "cell_type": "code",
      "execution_count": null,
      "metadata": {
        "id": "Vb89YM9CYHDL",
        "outputId": "a439fa1b-578f-4cdc-c8bf-5656a43f5e8f"
      },
      "outputs": [
        {
          "data": {
            "text/html": [
              "<div>\n",
              "<style scoped>\n",
              "    .dataframe tbody tr th:only-of-type {\n",
              "        vertical-align: middle;\n",
              "    }\n",
              "\n",
              "    .dataframe tbody tr th {\n",
              "        vertical-align: top;\n",
              "    }\n",
              "\n",
              "    .dataframe thead th {\n",
              "        text-align: right;\n",
              "    }\n",
              "</style>\n",
              "<table border=\"1\" class=\"dataframe\">\n",
              "  <thead>\n",
              "    <tr style=\"text-align: right;\">\n",
              "      <th></th>\n",
              "      <th>HighBP</th>\n",
              "      <th>High_Cholesterol</th>\n",
              "      <th>Cholesterol_Check</th>\n",
              "      <th>BMI</th>\n",
              "      <th>Smoker</th>\n",
              "      <th>Stroke</th>\n",
              "      <th>HeartDiseaseorAttack</th>\n",
              "      <th>Physical_Activity</th>\n",
              "      <th>Fruits</th>\n",
              "      <th>Veggies</th>\n",
              "      <th>...</th>\n",
              "      <th>Education_Cat5</th>\n",
              "      <th>Education_Cat6</th>\n",
              "      <th>Income_Cat1</th>\n",
              "      <th>Income_Cat2</th>\n",
              "      <th>Income_Cat3</th>\n",
              "      <th>Income_Cat4</th>\n",
              "      <th>Income_Cat5</th>\n",
              "      <th>Income_Cat6</th>\n",
              "      <th>Income_Cat7</th>\n",
              "      <th>Income_Cat8</th>\n",
              "    </tr>\n",
              "  </thead>\n",
              "  <tbody>\n",
              "    <tr>\n",
              "      <th>0</th>\n",
              "      <td>1.0</td>\n",
              "      <td>0.0</td>\n",
              "      <td>1.0</td>\n",
              "      <td>0.125</td>\n",
              "      <td>0.0</td>\n",
              "      <td>0.0</td>\n",
              "      <td>0.0</td>\n",
              "      <td>1.0</td>\n",
              "      <td>0.0</td>\n",
              "      <td>1.0</td>\n",
              "      <td>...</td>\n",
              "      <td>0.0</td>\n",
              "      <td>1.0</td>\n",
              "      <td>0.0</td>\n",
              "      <td>0.0</td>\n",
              "      <td>0.0</td>\n",
              "      <td>0.0</td>\n",
              "      <td>0.0</td>\n",
              "      <td>0.0</td>\n",
              "      <td>0.0</td>\n",
              "      <td>1.0</td>\n",
              "    </tr>\n",
              "    <tr>\n",
              "      <th>1</th>\n",
              "      <td>1.0</td>\n",
              "      <td>1.0</td>\n",
              "      <td>1.0</td>\n",
              "      <td>0.125</td>\n",
              "      <td>1.0</td>\n",
              "      <td>1.0</td>\n",
              "      <td>0.0</td>\n",
              "      <td>0.0</td>\n",
              "      <td>1.0</td>\n",
              "      <td>0.0</td>\n",
              "      <td>...</td>\n",
              "      <td>0.0</td>\n",
              "      <td>1.0</td>\n",
              "      <td>0.0</td>\n",
              "      <td>0.0</td>\n",
              "      <td>0.0</td>\n",
              "      <td>0.0</td>\n",
              "      <td>0.0</td>\n",
              "      <td>0.0</td>\n",
              "      <td>0.0</td>\n",
              "      <td>1.0</td>\n",
              "    </tr>\n",
              "    <tr>\n",
              "      <th>2</th>\n",
              "      <td>0.0</td>\n",
              "      <td>0.0</td>\n",
              "      <td>1.0</td>\n",
              "      <td>0.125</td>\n",
              "      <td>0.0</td>\n",
              "      <td>0.0</td>\n",
              "      <td>0.0</td>\n",
              "      <td>1.0</td>\n",
              "      <td>1.0</td>\n",
              "      <td>1.0</td>\n",
              "      <td>...</td>\n",
              "      <td>0.0</td>\n",
              "      <td>1.0</td>\n",
              "      <td>0.0</td>\n",
              "      <td>0.0</td>\n",
              "      <td>0.0</td>\n",
              "      <td>0.0</td>\n",
              "      <td>0.0</td>\n",
              "      <td>0.0</td>\n",
              "      <td>0.0</td>\n",
              "      <td>1.0</td>\n",
              "    </tr>\n",
              "    <tr>\n",
              "      <th>3</th>\n",
              "      <td>1.0</td>\n",
              "      <td>1.0</td>\n",
              "      <td>1.0</td>\n",
              "      <td>0.125</td>\n",
              "      <td>1.0</td>\n",
              "      <td>0.0</td>\n",
              "      <td>0.0</td>\n",
              "      <td>1.0</td>\n",
              "      <td>1.0</td>\n",
              "      <td>1.0</td>\n",
              "      <td>...</td>\n",
              "      <td>0.0</td>\n",
              "      <td>1.0</td>\n",
              "      <td>0.0</td>\n",
              "      <td>0.0</td>\n",
              "      <td>0.0</td>\n",
              "      <td>0.0</td>\n",
              "      <td>0.0</td>\n",
              "      <td>0.0</td>\n",
              "      <td>0.0</td>\n",
              "      <td>1.0</td>\n",
              "    </tr>\n",
              "    <tr>\n",
              "      <th>4</th>\n",
              "      <td>0.0</td>\n",
              "      <td>0.0</td>\n",
              "      <td>1.0</td>\n",
              "      <td>0.125</td>\n",
              "      <td>1.0</td>\n",
              "      <td>0.0</td>\n",
              "      <td>0.0</td>\n",
              "      <td>1.0</td>\n",
              "      <td>1.0</td>\n",
              "      <td>1.0</td>\n",
              "      <td>...</td>\n",
              "      <td>1.0</td>\n",
              "      <td>0.0</td>\n",
              "      <td>0.0</td>\n",
              "      <td>0.0</td>\n",
              "      <td>0.0</td>\n",
              "      <td>0.0</td>\n",
              "      <td>0.0</td>\n",
              "      <td>0.0</td>\n",
              "      <td>0.0</td>\n",
              "      <td>1.0</td>\n",
              "    </tr>\n",
              "    <tr>\n",
              "      <th>...</th>\n",
              "      <td>...</td>\n",
              "      <td>...</td>\n",
              "      <td>...</td>\n",
              "      <td>...</td>\n",
              "      <td>...</td>\n",
              "      <td>...</td>\n",
              "      <td>...</td>\n",
              "      <td>...</td>\n",
              "      <td>...</td>\n",
              "      <td>...</td>\n",
              "      <td>...</td>\n",
              "      <td>...</td>\n",
              "      <td>...</td>\n",
              "      <td>...</td>\n",
              "      <td>...</td>\n",
              "      <td>...</td>\n",
              "      <td>...</td>\n",
              "      <td>...</td>\n",
              "      <td>...</td>\n",
              "      <td>...</td>\n",
              "      <td>...</td>\n",
              "    </tr>\n",
              "    <tr>\n",
              "      <th>70685</th>\n",
              "      <td>0.0</td>\n",
              "      <td>1.0</td>\n",
              "      <td>1.0</td>\n",
              "      <td>0.250</td>\n",
              "      <td>0.0</td>\n",
              "      <td>0.0</td>\n",
              "      <td>0.0</td>\n",
              "      <td>0.0</td>\n",
              "      <td>0.0</td>\n",
              "      <td>1.0</td>\n",
              "      <td>...</td>\n",
              "      <td>0.0</td>\n",
              "      <td>0.0</td>\n",
              "      <td>1.0</td>\n",
              "      <td>0.0</td>\n",
              "      <td>0.0</td>\n",
              "      <td>0.0</td>\n",
              "      <td>0.0</td>\n",
              "      <td>0.0</td>\n",
              "      <td>0.0</td>\n",
              "      <td>0.0</td>\n",
              "    </tr>\n",
              "    <tr>\n",
              "      <th>70686</th>\n",
              "      <td>0.0</td>\n",
              "      <td>1.0</td>\n",
              "      <td>1.0</td>\n",
              "      <td>0.125</td>\n",
              "      <td>1.0</td>\n",
              "      <td>0.0</td>\n",
              "      <td>1.0</td>\n",
              "      <td>0.0</td>\n",
              "      <td>1.0</td>\n",
              "      <td>1.0</td>\n",
              "      <td>...</td>\n",
              "      <td>0.0</td>\n",
              "      <td>0.0</td>\n",
              "      <td>0.0</td>\n",
              "      <td>0.0</td>\n",
              "      <td>0.0</td>\n",
              "      <td>0.0</td>\n",
              "      <td>0.0</td>\n",
              "      <td>1.0</td>\n",
              "      <td>0.0</td>\n",
              "      <td>0.0</td>\n",
              "    </tr>\n",
              "    <tr>\n",
              "      <th>70687</th>\n",
              "      <td>1.0</td>\n",
              "      <td>1.0</td>\n",
              "      <td>1.0</td>\n",
              "      <td>0.125</td>\n",
              "      <td>0.0</td>\n",
              "      <td>0.0</td>\n",
              "      <td>1.0</td>\n",
              "      <td>0.0</td>\n",
              "      <td>1.0</td>\n",
              "      <td>0.0</td>\n",
              "      <td>...</td>\n",
              "      <td>0.0</td>\n",
              "      <td>1.0</td>\n",
              "      <td>0.0</td>\n",
              "      <td>0.0</td>\n",
              "      <td>0.0</td>\n",
              "      <td>1.0</td>\n",
              "      <td>0.0</td>\n",
              "      <td>0.0</td>\n",
              "      <td>0.0</td>\n",
              "      <td>0.0</td>\n",
              "    </tr>\n",
              "    <tr>\n",
              "      <th>70688</th>\n",
              "      <td>1.0</td>\n",
              "      <td>1.0</td>\n",
              "      <td>1.0</td>\n",
              "      <td>0.000</td>\n",
              "      <td>0.0</td>\n",
              "      <td>0.0</td>\n",
              "      <td>0.0</td>\n",
              "      <td>0.0</td>\n",
              "      <td>0.0</td>\n",
              "      <td>0.0</td>\n",
              "      <td>...</td>\n",
              "      <td>0.0</td>\n",
              "      <td>0.0</td>\n",
              "      <td>0.0</td>\n",
              "      <td>0.0</td>\n",
              "      <td>0.0</td>\n",
              "      <td>1.0</td>\n",
              "      <td>0.0</td>\n",
              "      <td>0.0</td>\n",
              "      <td>0.0</td>\n",
              "      <td>0.0</td>\n",
              "    </tr>\n",
              "    <tr>\n",
              "      <th>70689</th>\n",
              "      <td>1.0</td>\n",
              "      <td>1.0</td>\n",
              "      <td>1.0</td>\n",
              "      <td>0.125</td>\n",
              "      <td>0.0</td>\n",
              "      <td>0.0</td>\n",
              "      <td>1.0</td>\n",
              "      <td>1.0</td>\n",
              "      <td>1.0</td>\n",
              "      <td>0.0</td>\n",
              "      <td>...</td>\n",
              "      <td>0.0</td>\n",
              "      <td>1.0</td>\n",
              "      <td>0.0</td>\n",
              "      <td>1.0</td>\n",
              "      <td>0.0</td>\n",
              "      <td>0.0</td>\n",
              "      <td>0.0</td>\n",
              "      <td>0.0</td>\n",
              "      <td>0.0</td>\n",
              "      <td>0.0</td>\n",
              "    </tr>\n",
              "  </tbody>\n",
              "</table>\n",
              "<p>70690 rows × 38 columns</p>\n",
              "</div>"
            ],
            "text/plain": [
              "       HighBP  High_Cholesterol  Cholesterol_Check    BMI  Smoker  Stroke  \\\n",
              "0         1.0               0.0                1.0  0.125     0.0     0.0   \n",
              "1         1.0               1.0                1.0  0.125     1.0     1.0   \n",
              "2         0.0               0.0                1.0  0.125     0.0     0.0   \n",
              "3         1.0               1.0                1.0  0.125     1.0     0.0   \n",
              "4         0.0               0.0                1.0  0.125     1.0     0.0   \n",
              "...       ...               ...                ...    ...     ...     ...   \n",
              "70685     0.0               1.0                1.0  0.250     0.0     0.0   \n",
              "70686     0.0               1.0                1.0  0.125     1.0     0.0   \n",
              "70687     1.0               1.0                1.0  0.125     0.0     0.0   \n",
              "70688     1.0               1.0                1.0  0.000     0.0     0.0   \n",
              "70689     1.0               1.0                1.0  0.125     0.0     0.0   \n",
              "\n",
              "       HeartDiseaseorAttack  Physical_Activity  Fruits  Veggies  ...  \\\n",
              "0                       0.0                1.0     0.0      1.0  ...   \n",
              "1                       0.0                0.0     1.0      0.0  ...   \n",
              "2                       0.0                1.0     1.0      1.0  ...   \n",
              "3                       0.0                1.0     1.0      1.0  ...   \n",
              "4                       0.0                1.0     1.0      1.0  ...   \n",
              "...                     ...                ...     ...      ...  ...   \n",
              "70685                   0.0                0.0     0.0      1.0  ...   \n",
              "70686                   1.0                0.0     1.0      1.0  ...   \n",
              "70687                   1.0                0.0     1.0      0.0  ...   \n",
              "70688                   0.0                0.0     0.0      0.0  ...   \n",
              "70689                   1.0                1.0     1.0      0.0  ...   \n",
              "\n",
              "       Education_Cat5  Education_Cat6  Income_Cat1  Income_Cat2  Income_Cat3  \\\n",
              "0                 0.0             1.0          0.0          0.0          0.0   \n",
              "1                 0.0             1.0          0.0          0.0          0.0   \n",
              "2                 0.0             1.0          0.0          0.0          0.0   \n",
              "3                 0.0             1.0          0.0          0.0          0.0   \n",
              "4                 1.0             0.0          0.0          0.0          0.0   \n",
              "...               ...             ...          ...          ...          ...   \n",
              "70685             0.0             0.0          1.0          0.0          0.0   \n",
              "70686             0.0             0.0          0.0          0.0          0.0   \n",
              "70687             0.0             1.0          0.0          0.0          0.0   \n",
              "70688             0.0             0.0          0.0          0.0          0.0   \n",
              "70689             0.0             1.0          0.0          1.0          0.0   \n",
              "\n",
              "       Income_Cat4  Income_Cat5  Income_Cat6  Income_Cat7  Income_Cat8  \n",
              "0              0.0          0.0          0.0          0.0          1.0  \n",
              "1              0.0          0.0          0.0          0.0          1.0  \n",
              "2              0.0          0.0          0.0          0.0          1.0  \n",
              "3              0.0          0.0          0.0          0.0          1.0  \n",
              "4              0.0          0.0          0.0          0.0          1.0  \n",
              "...            ...          ...          ...          ...          ...  \n",
              "70685          0.0          0.0          0.0          0.0          0.0  \n",
              "70686          0.0          0.0          1.0          0.0          0.0  \n",
              "70687          1.0          0.0          0.0          0.0          0.0  \n",
              "70688          1.0          0.0          0.0          0.0          0.0  \n",
              "70689          0.0          0.0          0.0          0.0          0.0  \n",
              "\n",
              "[70690 rows x 38 columns]"
            ]
          },
          "execution_count": 77,
          "metadata": {},
          "output_type": "execute_result"
        }
      ],
      "source": [
        "features"
      ]
    },
    {
      "cell_type": "markdown",
      "metadata": {
        "id": "gMuUEkQTYHDL"
      },
      "source": [
        "# Model Train using XGBOOT"
      ]
    },
    {
      "cell_type": "code",
      "execution_count": null,
      "metadata": {
        "id": "0Cx6CsbHYHDM"
      },
      "outputs": [],
      "source": [
        "from xgboost import XGBClassifier\n",
        "from sklearn.model_selection import train_test_split\n",
        "from sklearn.metrics import accuracy_score, recall_score, precision_score, confusion_matrix, plot_confusion_matrix"
      ]
    },
    {
      "cell_type": "code",
      "execution_count": null,
      "metadata": {
        "id": "LYvXl4_QYHDM"
      },
      "outputs": [],
      "source": [
        "model = XGBClassifier(learning_rate=0.1, max_depth=4, n_estimators=400, subsample=0.5,\n",
        "              colsample_bytree=1, seed=123, eval_metric='auc', verbosity=1, early_stopping_rounds=10)"
      ]
    },
    {
      "cell_type": "code",
      "execution_count": null,
      "metadata": {
        "id": "22jNQKhqYHDN"
      },
      "outputs": [],
      "source": [
        "X_train, X_test, y_train, y_test = train_test_split(features, labels, test_size=0.2, random_state=1)"
      ]
    },
    {
      "cell_type": "code",
      "execution_count": null,
      "metadata": {
        "id": "aozGjCO5YHDO",
        "outputId": "0880b8ed-8aa9-4759-895b-a8330b46c8ff"
      },
      "outputs": [
        {
          "name": "stdout",
          "output_type": "stream",
          "text": [
            "[0]\tvalidation_0-auc:0.78386\n",
            "[1]\tvalidation_0-auc:0.79424\n",
            "[2]\tvalidation_0-auc:0.80247\n",
            "[3]\tvalidation_0-auc:0.80433\n",
            "[4]\tvalidation_0-auc:0.80626\n",
            "[5]\tvalidation_0-auc:0.80798\n",
            "[6]\tvalidation_0-auc:0.80887\n",
            "[7]\tvalidation_0-auc:0.81010\n",
            "[8]\tvalidation_0-auc:0.81133\n",
            "[9]\tvalidation_0-auc:0.81217\n",
            "[10]\tvalidation_0-auc:0.81266\n",
            "[11]\tvalidation_0-auc:0.81413\n",
            "[12]\tvalidation_0-auc:0.81454\n",
            "[13]\tvalidation_0-auc:0.81586\n",
            "[14]\tvalidation_0-auc:0.81678\n",
            "[15]\tvalidation_0-auc:0.81732\n",
            "[16]\tvalidation_0-auc:0.81778\n",
            "[17]\tvalidation_0-auc:0.81837\n",
            "[18]\tvalidation_0-auc:0.81877\n",
            "[19]\tvalidation_0-auc:0.81947\n",
            "[20]\tvalidation_0-auc:0.82014\n",
            "[21]\tvalidation_0-auc:0.82077\n",
            "[22]\tvalidation_0-auc:0.82132\n",
            "[23]\tvalidation_0-auc:0.82160\n",
            "[24]\tvalidation_0-auc:0.82196\n",
            "[25]\tvalidation_0-auc:0.82217\n",
            "[26]\tvalidation_0-auc:0.82266\n",
            "[27]\tvalidation_0-auc:0.82299\n",
            "[28]\tvalidation_0-auc:0.82317\n",
            "[29]\tvalidation_0-auc:0.82348\n",
            "[30]\tvalidation_0-auc:0.82381\n",
            "[31]\tvalidation_0-auc:0.82402\n",
            "[32]\tvalidation_0-auc:0.82436\n",
            "[33]\tvalidation_0-auc:0.82453\n",
            "[34]\tvalidation_0-auc:0.82474\n",
            "[35]\tvalidation_0-auc:0.82489\n",
            "[36]\tvalidation_0-auc:0.82510\n",
            "[37]\tvalidation_0-auc:0.82523\n",
            "[38]\tvalidation_0-auc:0.82535\n",
            "[39]\tvalidation_0-auc:0.82541\n",
            "[40]\tvalidation_0-auc:0.82550\n",
            "[41]\tvalidation_0-auc:0.82563\n",
            "[42]\tvalidation_0-auc:0.82573\n",
            "[43]\tvalidation_0-auc:0.82592\n",
            "[44]\tvalidation_0-auc:0.82603\n",
            "[45]\tvalidation_0-auc:0.82613\n",
            "[46]\tvalidation_0-auc:0.82621\n",
            "[47]\tvalidation_0-auc:0.82630\n",
            "[48]\tvalidation_0-auc:0.82642\n",
            "[49]\tvalidation_0-auc:0.82650\n",
            "[50]\tvalidation_0-auc:0.82656\n",
            "[51]\tvalidation_0-auc:0.82657\n",
            "[52]\tvalidation_0-auc:0.82669\n",
            "[53]\tvalidation_0-auc:0.82677\n",
            "[54]\tvalidation_0-auc:0.82672\n",
            "[55]\tvalidation_0-auc:0.82676\n",
            "[56]\tvalidation_0-auc:0.82685\n",
            "[57]\tvalidation_0-auc:0.82688\n",
            "[58]\tvalidation_0-auc:0.82697\n",
            "[59]\tvalidation_0-auc:0.82703\n",
            "[60]\tvalidation_0-auc:0.82719\n",
            "[61]\tvalidation_0-auc:0.82722\n",
            "[62]\tvalidation_0-auc:0.82723\n",
            "[63]\tvalidation_0-auc:0.82725\n",
            "[64]\tvalidation_0-auc:0.82735\n",
            "[65]\tvalidation_0-auc:0.82740\n",
            "[66]\tvalidation_0-auc:0.82739\n",
            "[67]\tvalidation_0-auc:0.82742\n",
            "[68]\tvalidation_0-auc:0.82751\n",
            "[69]\tvalidation_0-auc:0.82756\n",
            "[70]\tvalidation_0-auc:0.82754\n",
            "[71]\tvalidation_0-auc:0.82758\n",
            "[72]\tvalidation_0-auc:0.82764\n",
            "[73]\tvalidation_0-auc:0.82768\n",
            "[74]\tvalidation_0-auc:0.82776\n",
            "[75]\tvalidation_0-auc:0.82778\n",
            "[76]\tvalidation_0-auc:0.82786\n",
            "[77]\tvalidation_0-auc:0.82787\n",
            "[78]\tvalidation_0-auc:0.82788\n",
            "[79]\tvalidation_0-auc:0.82785\n",
            "[80]\tvalidation_0-auc:0.82784\n",
            "[81]\tvalidation_0-auc:0.82784\n",
            "[82]\tvalidation_0-auc:0.82788\n",
            "[83]\tvalidation_0-auc:0.82790\n",
            "[84]\tvalidation_0-auc:0.82795\n",
            "[85]\tvalidation_0-auc:0.82801\n",
            "[86]\tvalidation_0-auc:0.82805\n",
            "[87]\tvalidation_0-auc:0.82802\n",
            "[88]\tvalidation_0-auc:0.82806\n",
            "[89]\tvalidation_0-auc:0.82807\n",
            "[90]\tvalidation_0-auc:0.82814\n",
            "[91]\tvalidation_0-auc:0.82815\n",
            "[92]\tvalidation_0-auc:0.82818\n",
            "[93]\tvalidation_0-auc:0.82819\n",
            "[94]\tvalidation_0-auc:0.82822\n",
            "[95]\tvalidation_0-auc:0.82817\n",
            "[96]\tvalidation_0-auc:0.82817\n",
            "[97]\tvalidation_0-auc:0.82815\n",
            "[98]\tvalidation_0-auc:0.82818\n",
            "[99]\tvalidation_0-auc:0.82821\n",
            "[100]\tvalidation_0-auc:0.82818\n",
            "[101]\tvalidation_0-auc:0.82819\n",
            "[102]\tvalidation_0-auc:0.82826\n",
            "[103]\tvalidation_0-auc:0.82824\n",
            "[104]\tvalidation_0-auc:0.82821\n",
            "[105]\tvalidation_0-auc:0.82814\n",
            "[106]\tvalidation_0-auc:0.82817\n",
            "[107]\tvalidation_0-auc:0.82814\n",
            "[108]\tvalidation_0-auc:0.82814\n",
            "[109]\tvalidation_0-auc:0.82817\n",
            "[110]\tvalidation_0-auc:0.82819\n",
            "[111]\tvalidation_0-auc:0.82823\n",
            "[112]\tvalidation_0-auc:0.82822\n"
          ]
        }
      ],
      "source": [
        "model.fit(X_train, y_train, eval_set=[(X_test, y_test)]);"
      ]
    },
    {
      "cell_type": "code",
      "execution_count": null,
      "metadata": {
        "id": "p8SrKSk0YHDT"
      },
      "outputs": [],
      "source": [
        "def find_scores(X, y, model):\n",
        "    y_pred = model.predict(X)\n",
        "    print('train data accuracy:', accuracy_score(y, y_pred))\n",
        "    print('train data precision:', precision_score(y, y_pred))\n",
        "    print('train data recall:', recall_score(y, y_pred))\n",
        "    plot_confusion_matrix(model, X, y);\n",
        "    print(confusion_matrix(y, y_pred))"
      ]
    },
    {
      "cell_type": "markdown",
      "source": [
        "# Evaluation"
      ],
      "metadata": {
        "id": "GR8HW01vZbFY"
      }
    },
    {
      "cell_type": "code",
      "execution_count": null,
      "metadata": {
        "id": "jz_7rT-HYHDT",
        "outputId": "09a2cab4-d609-424d-b421-c76eb07816f1"
      },
      "outputs": [
        {
          "name": "stdout",
          "output_type": "stream",
          "text": [
            "train data accuracy: 0.7561889942000283\n",
            "train data precision: 0.7367653729022225\n",
            "train data recall: 0.8006266722996761\n",
            "[[20023  8125]\n",
            " [ 5663 22741]]\n"
          ]
        },
        {
          "data": {
            "image/png": "[encoded data removed]",
            "text/plain": [
              "<Figure size 432x288 with 2 Axes>"
            ]
          },
          "metadata": {
            "needs_background": "light"
          },
          "output_type": "display_data"
        }
      ],
      "source": [
        "find_scores(X_train, y_train, model)"
      ]
    },
    {
      "cell_type": "code",
      "execution_count": null,
      "metadata": {
        "id": "Bw6n-zSSYHDV",
        "outputId": "5cf2bb91-3514-4de4-a4d0-14c6561052f2"
      },
      "outputs": [
        {
          "name": "stdout",
          "output_type": "stream",
          "text": [
            "train data accuracy: 0.7504597538548592\n",
            "train data precision: 0.7253400237686518\n",
            "train data recall: 0.7913845267252557\n",
            "[[5117 2080]\n",
            " [1448 5493]]\n"
          ]
        },
        {
          "data": {
            "image/png": "[encoded data removed]",
            "text/plain": [
              "<Figure size 432x288 with 2 Axes>"
            ]
          },
          "metadata": {
            "needs_background": "light"
          },
          "output_type": "display_data"
        }
      ],
      "source": [
        "find_scores(X_test, y_test, model)"
      ]
    },
    {
      "cell_type": "markdown",
      "source": [
        "# Finding the best hyperparameters"
      ],
      "metadata": {
        "id": "_wkWWuCYZiG9"
      }
    },
    {
      "cell_type": "code",
      "execution_count": null,
      "metadata": {
        "id": "Cb0OXgh7YHDV"
      },
      "outputs": [],
      "source": [
        "from sklearn.model_selection import GridSearchCV\n",
        "from sklearn.metrics import roc_auc_score"
      ]
    },
    {
      "cell_type": "code",
      "execution_count": null,
      "metadata": {
        "id": "3eR7HfGFYHDW",
        "outputId": "1c066232-8beb-4075-b91c-3f6ecdbeea19"
      },
      "outputs": [
        {
          "data": {
            "text/plain": [
              "{'objective': 'binary:logistic',\n",
              " 'use_label_encoder': False,\n",
              " 'base_score': None,\n",
              " 'booster': None,\n",
              " 'callbacks': None,\n",
              " 'colsample_bylevel': None,\n",
              " 'colsample_bynode': None,\n",
              " 'colsample_bytree': None,\n",
              " 'early_stopping_rounds': None,\n",
              " 'enable_categorical': False,\n",
              " 'eval_metric': None,\n",
              " 'gamma': None,\n",
              " 'gpu_id': None,\n",
              " 'grow_policy': None,\n",
              " 'importance_type': None,\n",
              " 'interaction_constraints': None,\n",
              " 'learning_rate': None,\n",
              " 'max_bin': None,\n",
              " 'max_cat_to_onehot': None,\n",
              " 'max_delta_step': None,\n",
              " 'max_depth': None,\n",
              " 'max_leaves': None,\n",
              " 'min_child_weight': None,\n",
              " 'missing': nan,\n",
              " 'monotone_constraints': None,\n",
              " 'n_estimators': 100,\n",
              " 'n_jobs': None,\n",
              " 'num_parallel_tree': None,\n",
              " 'predictor': None,\n",
              " 'random_state': None,\n",
              " 'reg_alpha': None,\n",
              " 'reg_lambda': None,\n",
              " 'sampling_method': None,\n",
              " 'scale_pos_weight': None,\n",
              " 'subsample': None,\n",
              " 'tree_method': None,\n",
              " 'validate_parameters': None,\n",
              " 'verbosity': None}"
            ]
          },
          "execution_count": 86,
          "metadata": {},
          "output_type": "execute_result"
        }
      ],
      "source": [
        "XGBClassifier().get_params()"
      ]
    },
    {
      "cell_type": "code",
      "execution_count": null,
      "metadata": {
        "id": "187vS7FkYHDX"
      },
      "outputs": [],
      "source": [
        "learning_rate_list = [0.02, 0.05, 0.1, 0.3] \n",
        "max_depth_list = [2, 3, 4] \n",
        "n_estimators_list = [100, 200, 300] \n",
        "colsample_bytree_list = [0.8, 1]"
      ]
    },
    {
      "cell_type": "code",
      "execution_count": null,
      "metadata": {
        "id": "9ZAjG0T4YHDY"
      },
      "outputs": [],
      "source": [
        "def my_roc_auc_score(model, X, y): \n",
        "    return roc_auc_score(y, model.predict_proba(X)[:,1])"
      ]
    },
    {
      "cell_type": "code",
      "execution_count": null,
      "metadata": {
        "id": "pRPxMDLqYHDb"
      },
      "outputs": [],
      "source": [
        "parameters = {'learning_rate': learning_rate_list, 'max_depth': max_depth_list,\n",
        "              'n_estimators': n_estimators_list, 'colsample_bytree': colsample_bytree_list}"
      ]
    },
    {
      "cell_type": "code",
      "execution_count": null,
      "metadata": {
        "id": "Jx2FtlzcYHDc"
      },
      "outputs": [],
      "source": [
        "basic_model = XGBClassifier(subsample=0.5, eval_metric='auc')"
      ]
    },
    {
      "cell_type": "code",
      "execution_count": null,
      "metadata": {
        "id": "Stvpdw7ZYHDd"
      },
      "outputs": [],
      "source": [
        "model_selector = GridSearchCV(basic_model, parameters, scoring=my_roc_auc_score, cv=3)"
      ]
    },
    {
      "cell_type": "code",
      "execution_count": null,
      "metadata": {
        "id": "cvTIEOc5YHDe",
        "outputId": "1189025f-9dd9-4278-932c-c61c717a8491"
      },
      "outputs": [
        {
          "data": {
            "text/plain": [
              "GridSearchCV(cv=3,\n",
              "             estimator=XGBClassifier(base_score=None, booster=None,\n",
              "                                     callbacks=None, colsample_bylevel=None,\n",
              "                                     colsample_bynode=None,\n",
              "                                     colsample_bytree=None,\n",
              "                                     early_stopping_rounds=None,\n",
              "                                     enable_categorical=False,\n",
              "                                     eval_metric='auc', gamma=None, gpu_id=None,\n",
              "                                     grow_policy=None, importance_type=None,\n",
              "                                     interaction_constraints=None,\n",
              "                                     learning_rate=None, max_bin=None,\n",
              "                                     max_c...\n",
              "                                     max_leaves=None, min_child_weight=None,\n",
              "                                     missing=nan, monotone_constraints=None,\n",
              "                                     n_estimators=100, n_jobs=None,\n",
              "                                     num_parallel_tree=None, predictor=None,\n",
              "                                     random_state=None, reg_alpha=None,\n",
              "                                     reg_lambda=None, ...),\n",
              "             param_grid={'colsample_bytree': [0.8, 1],\n",
              "                         'learning_rate': [0.02, 0.05, 0.1, 0.3],\n",
              "                         'max_depth': [2, 3, 4],\n",
              "                         'n_estimators': [100, 200, 300]},\n",
              "             scoring=<function my_roc_auc_score at 0x0000013127467D30>)"
            ]
          },
          "execution_count": 92,
          "metadata": {},
          "output_type": "execute_result"
        }
      ],
      "source": [
        "model_selector.fit(X_train, y_train)"
      ]
    },
    {
      "cell_type": "code",
      "execution_count": null,
      "metadata": {
        "id": "tjQGz7LeYHDf",
        "outputId": "5c0d4095-8aee-4f24-eba9-437850c27c33"
      },
      "outputs": [
        {
          "data": {
            "text/html": [
              "<div>\n",
              "<style scoped>\n",
              "    .dataframe tbody tr th:only-of-type {\n",
              "        vertical-align: middle;\n",
              "    }\n",
              "\n",
              "    .dataframe tbody tr th {\n",
              "        vertical-align: top;\n",
              "    }\n",
              "\n",
              "    .dataframe thead th {\n",
              "        text-align: right;\n",
              "    }\n",
              "</style>\n",
              "<table border=\"1\" class=\"dataframe\">\n",
              "  <thead>\n",
              "    <tr style=\"text-align: right;\">\n",
              "      <th></th>\n",
              "      <th>mean_fit_time</th>\n",
              "      <th>std_fit_time</th>\n",
              "      <th>mean_score_time</th>\n",
              "      <th>std_score_time</th>\n",
              "      <th>param_colsample_bytree</th>\n",
              "      <th>param_learning_rate</th>\n",
              "      <th>param_max_depth</th>\n",
              "      <th>param_n_estimators</th>\n",
              "      <th>params</th>\n",
              "      <th>split0_test_score</th>\n",
              "      <th>split1_test_score</th>\n",
              "      <th>split2_test_score</th>\n",
              "      <th>mean_test_score</th>\n",
              "      <th>std_test_score</th>\n",
              "      <th>rank_test_score</th>\n",
              "    </tr>\n",
              "  </thead>\n",
              "  <tbody>\n",
              "    <tr>\n",
              "      <th>53</th>\n",
              "      <td>10.943667</td>\n",
              "      <td>0.092161</td>\n",
              "      <td>0.072344</td>\n",
              "      <td>0.000465</td>\n",
              "      <td>1</td>\n",
              "      <td>0.05</td>\n",
              "      <td>4</td>\n",
              "      <td>300</td>\n",
              "      <td>{'colsample_bytree': 1, 'learning_rate': 0.05,...</td>\n",
              "      <td>0.832320</td>\n",
              "      <td>0.827762</td>\n",
              "      <td>0.823356</td>\n",
              "      <td>0.827813</td>\n",
              "      <td>0.003660</td>\n",
              "      <td>1</td>\n",
              "    </tr>\n",
              "    <tr>\n",
              "      <th>17</th>\n",
              "      <td>8.541666</td>\n",
              "      <td>0.195338</td>\n",
              "      <td>0.063000</td>\n",
              "      <td>0.000816</td>\n",
              "      <td>0.8</td>\n",
              "      <td>0.05</td>\n",
              "      <td>4</td>\n",
              "      <td>300</td>\n",
              "      <td>{'colsample_bytree': 0.8, 'learning_rate': 0.0...</td>\n",
              "      <td>0.832213</td>\n",
              "      <td>0.827844</td>\n",
              "      <td>0.823297</td>\n",
              "      <td>0.827785</td>\n",
              "      <td>0.003640</td>\n",
              "      <td>2</td>\n",
              "    </tr>\n",
              "    <tr>\n",
              "      <th>16</th>\n",
              "      <td>5.619666</td>\n",
              "      <td>0.013816</td>\n",
              "      <td>0.052999</td>\n",
              "      <td>0.000818</td>\n",
              "      <td>0.8</td>\n",
              "      <td>0.05</td>\n",
              "      <td>4</td>\n",
              "      <td>200</td>\n",
              "      <td>{'colsample_bytree': 0.8, 'learning_rate': 0.0...</td>\n",
              "      <td>0.832337</td>\n",
              "      <td>0.827753</td>\n",
              "      <td>0.823231</td>\n",
              "      <td>0.827774</td>\n",
              "      <td>0.003718</td>\n",
              "      <td>3</td>\n",
              "    </tr>\n",
              "    <tr>\n",
              "      <th>52</th>\n",
              "      <td>7.414000</td>\n",
              "      <td>0.145511</td>\n",
              "      <td>0.068334</td>\n",
              "      <td>0.013224</td>\n",
              "      <td>1</td>\n",
              "      <td>0.05</td>\n",
              "      <td>4</td>\n",
              "      <td>200</td>\n",
              "      <td>{'colsample_bytree': 1, 'learning_rate': 0.05,...</td>\n",
              "      <td>0.832459</td>\n",
              "      <td>0.827566</td>\n",
              "      <td>0.823118</td>\n",
              "      <td>0.827714</td>\n",
              "      <td>0.003815</td>\n",
              "      <td>4</td>\n",
              "    </tr>\n",
              "    <tr>\n",
              "      <th>14</th>\n",
              "      <td>6.572001</td>\n",
              "      <td>0.040273</td>\n",
              "      <td>0.053334</td>\n",
              "      <td>0.001250</td>\n",
              "      <td>0.8</td>\n",
              "      <td>0.05</td>\n",
              "      <td>3</td>\n",
              "      <td>300</td>\n",
              "      <td>{'colsample_bytree': 0.8, 'learning_rate': 0.0...</td>\n",
              "      <td>0.832302</td>\n",
              "      <td>0.827659</td>\n",
              "      <td>0.823028</td>\n",
              "      <td>0.827663</td>\n",
              "      <td>0.003786</td>\n",
              "      <td>5</td>\n",
              "    </tr>\n",
              "    <tr>\n",
              "      <th>...</th>\n",
              "      <td>...</td>\n",
              "      <td>...</td>\n",
              "      <td>...</td>\n",
              "      <td>...</td>\n",
              "      <td>...</td>\n",
              "      <td>...</td>\n",
              "      <td>...</td>\n",
              "      <td>...</td>\n",
              "      <td>...</td>\n",
              "      <td>...</td>\n",
              "      <td>...</td>\n",
              "      <td>...</td>\n",
              "      <td>...</td>\n",
              "      <td>...</td>\n",
              "      <td>...</td>\n",
              "    </tr>\n",
              "    <tr>\n",
              "      <th>39</th>\n",
              "      <td>2.928332</td>\n",
              "      <td>0.014056</td>\n",
              "      <td>0.042000</td>\n",
              "      <td>0.002448</td>\n",
              "      <td>1</td>\n",
              "      <td>0.02</td>\n",
              "      <td>3</td>\n",
              "      <td>100</td>\n",
              "      <td>{'colsample_bytree': 1, 'learning_rate': 0.02,...</td>\n",
              "      <td>0.822023</td>\n",
              "      <td>0.815231</td>\n",
              "      <td>0.810466</td>\n",
              "      <td>0.815907</td>\n",
              "      <td>0.004742</td>\n",
              "      <td>68</td>\n",
              "    </tr>\n",
              "    <tr>\n",
              "      <th>35</th>\n",
              "      <td>9.587666</td>\n",
              "      <td>0.110182</td>\n",
              "      <td>0.076333</td>\n",
              "      <td>0.005906</td>\n",
              "      <td>0.8</td>\n",
              "      <td>0.3</td>\n",
              "      <td>4</td>\n",
              "      <td>300</td>\n",
              "      <td>{'colsample_bytree': 0.8, 'learning_rate': 0.3...</td>\n",
              "      <td>0.820010</td>\n",
              "      <td>0.815063</td>\n",
              "      <td>0.811884</td>\n",
              "      <td>0.815652</td>\n",
              "      <td>0.003344</td>\n",
              "      <td>69</td>\n",
              "    </tr>\n",
              "    <tr>\n",
              "      <th>71</th>\n",
              "      <td>11.083755</td>\n",
              "      <td>0.027131</td>\n",
              "      <td>0.073243</td>\n",
              "      <td>0.001669</td>\n",
              "      <td>1</td>\n",
              "      <td>0.3</td>\n",
              "      <td>4</td>\n",
              "      <td>300</td>\n",
              "      <td>{'colsample_bytree': 1, 'learning_rate': 0.3, ...</td>\n",
              "      <td>0.818533</td>\n",
              "      <td>0.816121</td>\n",
              "      <td>0.811622</td>\n",
              "      <td>0.815425</td>\n",
              "      <td>0.002864</td>\n",
              "      <td>70</td>\n",
              "    </tr>\n",
              "    <tr>\n",
              "      <th>36</th>\n",
              "      <td>2.200278</td>\n",
              "      <td>0.006984</td>\n",
              "      <td>0.040701</td>\n",
              "      <td>0.001691</td>\n",
              "      <td>1</td>\n",
              "      <td>0.02</td>\n",
              "      <td>2</td>\n",
              "      <td>100</td>\n",
              "      <td>{'colsample_bytree': 1, 'learning_rate': 0.02,...</td>\n",
              "      <td>0.816918</td>\n",
              "      <td>0.809919</td>\n",
              "      <td>0.804718</td>\n",
              "      <td>0.810518</td>\n",
              "      <td>0.004999</td>\n",
              "      <td>71</td>\n",
              "    </tr>\n",
              "    <tr>\n",
              "      <th>0</th>\n",
              "      <td>1.874335</td>\n",
              "      <td>0.087752</td>\n",
              "      <td>0.046333</td>\n",
              "      <td>0.010875</td>\n",
              "      <td>0.8</td>\n",
              "      <td>0.02</td>\n",
              "      <td>2</td>\n",
              "      <td>100</td>\n",
              "      <td>{'colsample_bytree': 0.8, 'learning_rate': 0.0...</td>\n",
              "      <td>0.816859</td>\n",
              "      <td>0.809812</td>\n",
              "      <td>0.804067</td>\n",
              "      <td>0.810246</td>\n",
              "      <td>0.005231</td>\n",
              "      <td>72</td>\n",
              "    </tr>\n",
              "  </tbody>\n",
              "</table>\n",
              "<p>72 rows × 15 columns</p>\n",
              "</div>"
            ],
            "text/plain": [
              "    mean_fit_time  std_fit_time  mean_score_time  std_score_time  \\\n",
              "53      10.943667      0.092161         0.072344        0.000465   \n",
              "17       8.541666      0.195338         0.063000        0.000816   \n",
              "16       5.619666      0.013816         0.052999        0.000818   \n",
              "52       7.414000      0.145511         0.068334        0.013224   \n",
              "14       6.572001      0.040273         0.053334        0.001250   \n",
              "..            ...           ...              ...             ...   \n",
              "39       2.928332      0.014056         0.042000        0.002448   \n",
              "35       9.587666      0.110182         0.076333        0.005906   \n",
              "71      11.083755      0.027131         0.073243        0.001669   \n",
              "36       2.200278      0.006984         0.040701        0.001691   \n",
              "0        1.874335      0.087752         0.046333        0.010875   \n",
              "\n",
              "   param_colsample_bytree param_learning_rate param_max_depth  \\\n",
              "53                      1                0.05               4   \n",
              "17                    0.8                0.05               4   \n",
              "16                    0.8                0.05               4   \n",
              "52                      1                0.05               4   \n",
              "14                    0.8                0.05               3   \n",
              "..                    ...                 ...             ...   \n",
              "39                      1                0.02               3   \n",
              "35                    0.8                 0.3               4   \n",
              "71                      1                 0.3               4   \n",
              "36                      1                0.02               2   \n",
              "0                     0.8                0.02               2   \n",
              "\n",
              "   param_n_estimators                                             params  \\\n",
              "53                300  {'colsample_bytree': 1, 'learning_rate': 0.05,...   \n",
              "17                300  {'colsample_bytree': 0.8, 'learning_rate': 0.0...   \n",
              "16                200  {'colsample_bytree': 0.8, 'learning_rate': 0.0...   \n",
              "52                200  {'colsample_bytree': 1, 'learning_rate': 0.05,...   \n",
              "14                300  {'colsample_bytree': 0.8, 'learning_rate': 0.0...   \n",
              "..                ...                                                ...   \n",
              "39                100  {'colsample_bytree': 1, 'learning_rate': 0.02,...   \n",
              "35                300  {'colsample_bytree': 0.8, 'learning_rate': 0.3...   \n",
              "71                300  {'colsample_bytree': 1, 'learning_rate': 0.3, ...   \n",
              "36                100  {'colsample_bytree': 1, 'learning_rate': 0.02,...   \n",
              "0                 100  {'colsample_bytree': 0.8, 'learning_rate': 0.0...   \n",
              "\n",
              "    split0_test_score  split1_test_score  split2_test_score  mean_test_score  \\\n",
              "53           0.832320           0.827762           0.823356         0.827813   \n",
              "17           0.832213           0.827844           0.823297         0.827785   \n",
              "16           0.832337           0.827753           0.823231         0.827774   \n",
              "52           0.832459           0.827566           0.823118         0.827714   \n",
              "14           0.832302           0.827659           0.823028         0.827663   \n",
              "..                ...                ...                ...              ...   \n",
              "39           0.822023           0.815231           0.810466         0.815907   \n",
              "35           0.820010           0.815063           0.811884         0.815652   \n",
              "71           0.818533           0.816121           0.811622         0.815425   \n",
              "36           0.816918           0.809919           0.804718         0.810518   \n",
              "0            0.816859           0.809812           0.804067         0.810246   \n",
              "\n",
              "    std_test_score  rank_test_score  \n",
              "53        0.003660                1  \n",
              "17        0.003640                2  \n",
              "16        0.003718                3  \n",
              "52        0.003815                4  \n",
              "14        0.003786                5  \n",
              "..             ...              ...  \n",
              "39        0.004742               68  \n",
              "35        0.003344               69  \n",
              "71        0.002864               70  \n",
              "36        0.004999               71  \n",
              "0         0.005231               72  \n",
              "\n",
              "[72 rows x 15 columns]"
            ]
          },
          "execution_count": 93,
          "metadata": {},
          "output_type": "execute_result"
        }
      ],
      "source": [
        "results = pd.DataFrame(model_selector.cv_results_)\n",
        "results.sort_values(by=['rank_test_score'])"
      ]
    },
    {
      "cell_type": "code",
      "execution_count": null,
      "metadata": {
        "id": "CzEHSixUYHDg",
        "outputId": "906fb5c4-7308-4abd-fa8c-5280b78b48ff"
      },
      "outputs": [
        {
          "data": {
            "text/plain": [
              "{'colsample_bytree': 1,\n",
              " 'learning_rate': 0.05,\n",
              " 'max_depth': 4,\n",
              " 'n_estimators': 300}"
            ]
          },
          "execution_count": 94,
          "metadata": {},
          "output_type": "execute_result"
        }
      ],
      "source": [
        "model_selector.best_params_"
      ]
    },
    {
      "cell_type": "code",
      "execution_count": null,
      "metadata": {
        "id": "6DP-j2T1YHDh"
      },
      "outputs": [],
      "source": [
        "best_model = model_selector.best_estimator_"
      ]
    },
    {
      "cell_type": "code",
      "execution_count": null,
      "metadata": {
        "id": "jkVGqqqYYHDh",
        "outputId": "65c8df33-1d2f-4719-deb5-cdc4adfa829c"
      },
      "outputs": [
        {
          "name": "stdout",
          "output_type": "stream",
          "text": [
            "train data accuracy: 0.7587706889234687\n",
            "train data precision: 0.7383889929591112\n",
            "train data recall: 0.8048866356851148\n",
            "[[20048  8100]\n",
            " [ 5542 22862]]\n"
          ]
        },
        {
          "data": {
            "image/png": "[encoded data removed]",
            "text/plain": [
              "<Figure size 432x288 with 2 Axes>"
            ]
          },
          "metadata": {
            "needs_background": "light"
          },
          "output_type": "display_data"
        }
      ],
      "source": [
        "find_scores(X_train, y_train, best_model)"
      ]
    },
    {
      "cell_type": "code",
      "execution_count": null,
      "metadata": {
        "id": "GpVPTrsOYHDi",
        "outputId": "45def0a3-be57-4bc8-9dc6-7ad45b76c241"
      },
      "outputs": [
        {
          "name": "stdout",
          "output_type": "stream",
          "text": [
            "train data accuracy: 0.751732918376008\n",
            "train data precision: 0.7253382372257979\n",
            "train data recall: 0.7955625990491284\n",
            "[[5106 2091]\n",
            " [1419 5522]]\n"
          ]
        },
        {
          "data": {
            "image/png": "[encoded data removed]",
            "text/plain": [
              "<Figure size 432x288 with 2 Axes>"
            ]
          },
          "metadata": {
            "needs_background": "light"
          },
          "output_type": "display_data"
        }
      ],
      "source": [
        "find_scores(X_test, y_test, best_model)"
      ]
    },
    {
      "cell_type": "code",
      "execution_count": null,
      "metadata": {
        "id": "G0FbfZXDYHDk"
      },
      "outputs": [],
      "source": [
        "import matplotlib.pyplot as plt"
      ]
    },
    {
      "cell_type": "code",
      "execution_count": null,
      "metadata": {
        "id": "jGfb0y2eYHDl"
      },
      "outputs": [],
      "source": [
        "def find_status(main_parameter_list, main_parameter_label, other_parameters_labels, results):\n",
        "    status = {}\n",
        "    first_time = True\n",
        "    \n",
        "    for val in main_parameter_list:\n",
        "        middle_result = results.loc[results[main_parameter_label] == val,\n",
        "                      other_parameters_labels + ['mean_fit_time', 'std_fit_time', 'mean_test_score', 'std_test_score']]\n",
        "    \n",
        "        middle_result = middle_result.sort_values(by=other_parameters_labels)\n",
        "        \n",
        "        if first_time:\n",
        "            first_time = False\n",
        "            status['mean_fit_time'] = middle_result[['mean_fit_time']].to_numpy()\n",
        "            status['std_fit_time'] = middle_result[['std_fit_time']].to_numpy()\n",
        "            status['mean_test_score'] = middle_result[['mean_test_score']].to_numpy()\n",
        "            status['std_test_score'] = middle_result[['std_test_score']].to_numpy()\n",
        "        \n",
        "        else:\n",
        "            status['mean_fit_time'] = np.hstack((status['mean_fit_time'], middle_result[['mean_fit_time']].to_numpy()))\n",
        "            status['std_fit_time'] = np.hstack((status['std_fit_time'], middle_result[['std_fit_time']].to_numpy()))\n",
        "            status['mean_test_score'] = np.hstack((status['mean_test_score'], middle_result[['mean_test_score']].to_numpy()))\n",
        "            status['std_test_score'] = np.hstack((status['std_test_score'], middle_result[['std_test_score']].to_numpy()))\n",
        "    \n",
        "    return status"
      ]
    },
    {
      "cell_type": "code",
      "execution_count": null,
      "metadata": {
        "id": "65Geg9DiYHDm"
      },
      "outputs": [],
      "source": [
        "colsample_bytree_status = find_status(colsample_bytree_list, 'param_colsample_bytree', ['param_learning_rate', 'param_max_depth', 'param_n_estimators'], results.copy())\n",
        "learning_rate_status = find_status(learning_rate_list, 'param_learning_rate', ['param_colsample_bytree', 'param_max_depth',\t'param_n_estimators'], results.copy())\n",
        "max_depth_status = find_status(max_depth_list, 'param_max_depth', ['param_colsample_bytree', 'param_learning_rate', 'param_n_estimators'], results.copy())\n",
        "n_estimators_status = find_status(n_estimators_list, 'param_n_estimators', ['param_colsample_bytree', 'param_learning_rate', 'param_max_depth'], results.copy())\n"
      ]
    },
    {
      "cell_type": "code",
      "execution_count": null,
      "metadata": {
        "id": "SO7p3V5rYHDn"
      },
      "outputs": [],
      "source": [
        "def plot_results(status, main_parameter_label, main_parameter_list):\n",
        "    status_labels = ['mean_fit_time', 'std_fit_time', 'mean_test_score', 'std_test_score']\n",
        "    plt.figure(figsize=(10, 10))\n",
        "    for status_label in status_labels:\n",
        "        \n",
        "        if status_label == 'mean_fit_time':\n",
        "            plt.subplot(223)\n",
        "        elif status_label == 'std_fit_time':\n",
        "            plt.subplot(224)\n",
        "        elif status_label == 'mean_test_score':\n",
        "            plt.subplot(221)\n",
        "        elif status_label == 'std_test_score':\n",
        "            plt.subplot(222)\n",
        "    \n",
        "        length = status[status_label].shape[0]\n",
        "        for idx in range(length):\n",
        "            plt.plot(np.array(main_parameter_list), status[status_label][idx])\n",
        "            plt.xticks(main_parameter_list)\n",
        "        \n",
        "        plt.title(status_label)\n",
        "    plt.suptitle(main_parameter_label)"
      ]
    },
    {
      "cell_type": "markdown",
      "source": [
        "# Plotting and analyzing results per defferent hyperparameters"
      ],
      "metadata": {
        "id": "wORm73mfZ4bQ"
      }
    },
    {
      "cell_type": "code",
      "execution_count": null,
      "metadata": {
        "id": "cN-mDeF5YHDo",
        "outputId": "063a32c1-a2d0-4099-a7f0-07f1fd23c2de"
      },
      "outputs": [
        {
          "data": {
            "image/png": "[encoded data removed]",
            "text/plain": [
              "<Figure size 720x720 with 4 Axes>"
            ]
          },
          "metadata": {
            "needs_background": "light"
          },
          "output_type": "display_data"
        }
      ],
      "source": [
        "plot_results(colsample_bytree_status, 'colsample_bytree', colsample_bytree_list)"
      ]
    },
    {
      "cell_type": "code",
      "execution_count": null,
      "metadata": {
        "id": "gWQbpxATYHDs",
        "outputId": "fe0f6aee-f69d-4543-ff52-fb7d529a0c16"
      },
      "outputs": [
        {
          "data": {
            "image/png": "[encoded data removed]",
            "text/plain": [
              "<Figure size 720x720 with 4 Axes>"
            ]
          },
          "metadata": {
            "needs_background": "light"
          },
          "output_type": "display_data"
        }
      ],
      "source": [
        "plot_results(learning_rate_status, 'learning_rate', learning_rate_list)"
      ]
    },
    {
      "cell_type": "code",
      "execution_count": null,
      "metadata": {
        "id": "ADuM1a-3YHDt",
        "outputId": "f2c5e20c-6823-462b-8e9e-7008099509b6"
      },
      "outputs": [
        {
          "data": {
            "image/png": "[encoded data removed]",
            "text/plain": [
              "<Figure size 720x720 with 4 Axes>"
            ]
          },
          "metadata": {
            "needs_background": "light"
          },
          "output_type": "display_data"
        }
      ],
      "source": [
        "plot_results(n_estimators_status, 'n_estimators', n_estimators_list)"
      ]
    },
    {
      "cell_type": "code",
      "execution_count": null,
      "metadata": {
        "id": "YrLiKAKrYHD2",
        "outputId": "5fe40fd4-1ef9-43cd-c8d4-e13f7956ed68"
      },
      "outputs": [
        {
          "data": {
            "image/png": "[encoded data removed]",
            "text/plain": [
              "<Figure size 720x720 with 4 Axes>"
            ]
          },
          "metadata": {
            "needs_background": "light"
          },
          "output_type": "display_data"
        }
      ],
      "source": [
        "plot_results(max_depth_status, 'max_depth', max_depth_list)"
      ]
    }
  ],
  "metadata": {
    "interpreter": {
      "hash": "4cd0ed9f67ed8ea82a84ec37d92bcaa6b541ef05aa9fe6c18e20803d4b2ba89a"
    },
    "kernelspec": {
      "display_name": "Python 3.8.2 64-bit",
      "language": "python",
      "name": "python3"
    },
    "language_info": {
      "codemirror_mode": {
        "name": "ipython",
        "version": 3
      },
      "file_extension": ".py",
      "mimetype": "text/x-python",
      "name": "python",
      "nbconvert_exporter": "python",
      "pygments_lexer": "ipython3",
      "version": "3.8.2"
    },
    "orig_nbformat": 4,
    "colab": {
      "provenance": []
    }
  },
  "nbformat": 4,
  "nbformat_minor": 0
}